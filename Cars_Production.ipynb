{
 "cells": [
  {
   "cell_type": "code",
   "execution_count": 1,
   "metadata": {},
   "outputs": [],
   "source": [
    "#import libraries\n",
    "import pandas as pd \n",
    "import numpy as np \n",
    "from sklearn.metrics import roc_auc_score\n",
    "from sklearn.model_selection import cross_val_score, train_test_split\n",
    "from sklearn.metrics import r2_score\n",
    "from sklearn.metrics import mean_squared_error\n",
    "from xgboost import XGBRegressor"
   ]
  },
  {
   "cell_type": "code",
   "execution_count": 2,
   "metadata": {},
   "outputs": [],
   "source": [
    "#load dataset\n",
    "df = pd.read_csv(\"USA_cars_datasets.csv\")"
   ]
  },
  {
   "cell_type": "code",
   "execution_count": 3,
   "metadata": {},
   "outputs": [],
   "source": [
    "# drop ID columns\n",
    "drop_cols = ['Unnamed: 0', 'vin','lot','condition','country']\n",
    "df=df.drop(drop_cols, axis=1)"
   ]
  },
  {
   "cell_type": "code",
   "execution_count": 4,
   "metadata": {},
   "outputs": [],
   "source": [
    "#group similar colors together\n",
    "df['color']=df['color'].replace('color:','no_color')\n",
    "df['color']=df['color'].replace(['light blue','morningsky blue','dark blue','kona blue metallic','lightning blue',\n",
    "                                'jazz blue pearlcoat',],'blue')\n",
    "df['color']=df['color'].replace(['ruby red','toreador red','burgundy','royal crimson metallic tinted clearcoat',\n",
    "                                'ruby red metallic tinted clearcoat','maroon','cayenne red'],'red')\n",
    "df['color']=df['color'].replace(['phantom black','tuxedo black metallic', 'shadow black','super black',\n",
    "                                'black clearcoat'] ,'black')\n",
    "df['color']=df['color'].replace(['ingot silver','ingot silver metallic','billet silver metallic clearcoat'],'silver')\n",
    "df['color']=df['color'].replace(['glacier white','pearl white','white platinum tri-coat metallic','oxford white',\n",
    "                                 'bright white clearcoat','off-white'],'white')\n",
    "df['color']=df['color'].replace(['competition orange'],'orange')\n",
    "df['color']=df['color'].replace(['triple yellow tri-coat'],'yellow')\n",
    "df['color']=df['color'].replace(['tan'],'brown')\n",
    "df['color']=df['color'].replace(['magnetic metallic','guard'],'gray')"
   ]
  },
  {
   "cell_type": "code",
   "execution_count": 5,
   "metadata": {
    "scrolled": true
   },
   "outputs": [],
   "source": [
    "#drop where price equals zero\n",
    "df = df.drop(df[df.price == 0].index)"
   ]
  },
  {
   "cell_type": "code",
   "execution_count": 6,
   "metadata": {},
   "outputs": [],
   "source": [
    "#convert to dummy variables\n",
    "dummy_brand = pd.get_dummies(df['brand'])\n",
    "df=pd.concat([df,dummy_brand],axis=1)\n",
    "df.drop(['brand'],axis=1,inplace=True)\n",
    "\n",
    "model_dummy = pd.get_dummies(df['model'])\n",
    "df=pd.concat([df,model_dummy],axis=1)\n",
    "df.drop(['model'],axis=1,inplace=True)\n",
    "\n",
    "title_dummy = pd.get_dummies(df['title_status'])\n",
    "df=pd.concat([df,title_dummy],axis=1)\n",
    "df.drop(['title_status'],axis=1,inplace=True)\n",
    "\n",
    "color_dummy = pd.get_dummies(df['color'])\n",
    "df=pd.concat([df,color_dummy],axis=1)\n",
    "df.drop(['color'],axis=1,inplace=True)\n",
    "\n",
    "state_dummy = pd.get_dummies(df['state'])\n",
    "df=pd.concat([df,state_dummy],axis=1)\n",
    "df.drop(['state'],axis=1,inplace=True)"
   ]
  },
  {
   "cell_type": "code",
   "execution_count": 7,
   "metadata": {},
   "outputs": [
    {
     "name": "stdout",
     "output_type": "stream",
     "text": [
      "<class 'pandas.core.frame.DataFrame'>\n",
      "Int64Index: 2456 entries, 0 to 2498\n",
      "Columns: 218 entries, price to wisconsin\n",
      "dtypes: float64(1), int64(2), uint8(215)\n",
      "memory usage: 592.4 KB\n"
     ]
    }
   ],
   "source": [
    "#make sure datatypes are all numbers\n",
    "df.info()"
   ]
  },
  {
   "cell_type": "code",
   "execution_count": 8,
   "metadata": {},
   "outputs": [],
   "source": [
    "#train test split\n",
    "features = df.drop('price',axis=1).values\n",
    "target = df.price.values\n",
    "X_train,X_test,y_train,y_test=train_test_split(features,target,test_size=0.20,shuffle=True)"
   ]
  },
  {
   "cell_type": "markdown",
   "metadata": {},
   "source": [
    "### XGBRegressor"
   ]
  },
  {
   "cell_type": "code",
   "execution_count": 9,
   "metadata": {},
   "outputs": [
    {
     "name": "stdout",
     "output_type": "stream",
     "text": [
      "Train r2 score: 0.8362508012780459\n",
      "Test r2 score: 0.6724039216293608\n",
      "Train RMSE: 4854.6439\n",
      "Test RMSE: 6758.0046\n"
     ]
    }
   ],
   "source": [
    "#using all the best params from gridsearch\n",
    "xgb3 = XGBRegressor(objective='reg:squarederror',learning_rate=0.03, n_estimators=1000, max_depth=5,\n",
    "        min_child_weight=1, gamma=0, subsample=0.8, colsample_bytree=0.8, \n",
    "        reg_alpha=1, reg_lambda=0.45).fit(X_train, y_train, early_stopping_rounds=5, \n",
    "             eval_set=[(X_test, y_test)], verbose=False)\n",
    "y_train_pred_xg3 = xgb3.predict(X_train)\n",
    "y_pred_xg3 = xgb3.predict(X_test)\n",
    "\n",
    "print (\"Train r2 score:\", r2_score(y_pred=y_train_pred_xg3,y_true=y_train))\n",
    "print(\"Test r2 score:\", r2_score(y_test, y_pred_xg3))\n",
    "train_mse3 = mean_squared_error(y_train_pred_xg3, y_train)\n",
    "test_mse3 = mean_squared_error(y_pred_xg3, y_test)\n",
    "train_rmse3 = np.sqrt(train_mse3)\n",
    "test_rmse3 = np.sqrt(test_mse3)\n",
    "print(\"Train RMSE: %.4f\" % train_rmse3)\n",
    "print(\"Test RMSE: %.4f\" % test_rmse3)"
   ]
  },
  {
   "cell_type": "code",
   "execution_count": 16,
   "metadata": {
    "scrolled": false
   },
   "outputs": [
    {
     "name": "stdout",
     "output_type": "stream",
     "text": [
      "     true price  predicted price\n",
      "19        25500     24525.568359\n",
      "445       30700     25812.914062\n",
      "344       10200     13666.338867\n",
      "239       17150     16754.957031\n",
      "404       14000     14145.477539\n"
     ]
    }
   ],
   "source": [
    "#predict prices\n",
    "prediction=xgb3.predict(X_test)\n",
    "test=pd.DataFrame({\"true price\":(y_test),\"predicted price\":(prediction)})\n",
    "print(test.sample(5))"
   ]
  }
 ],
 "metadata": {
  "kernelspec": {
   "display_name": "Python 3",
   "language": "python",
   "name": "python3"
  },
  "language_info": {
   "codemirror_mode": {
    "name": "ipython",
    "version": 3
   },
   "file_extension": ".py",
   "mimetype": "text/x-python",
   "name": "python",
   "nbconvert_exporter": "python",
   "pygments_lexer": "ipython3",
   "version": "3.7.6"
  }
 },
 "nbformat": 4,
 "nbformat_minor": 4
}
