{
 "cells": [
  {
   "cell_type": "code",
   "execution_count": 1,
   "metadata": {},
   "outputs": [],
   "source": [
    "#import libraries\n",
    "import pandas as pd \n",
    "import numpy as np \n",
    "import seaborn as sns\n",
    "import matplotlib.pyplot as plt\n",
    "from scipy.stats import norm"
   ]
  },
  {
   "cell_type": "code",
   "execution_count": 2,
   "metadata": {},
   "outputs": [],
   "source": [
    "#load dataset\n",
    "df = pd.read_csv(\"USA_cars_datasets.csv\")"
   ]
  },
  {
   "cell_type": "code",
   "execution_count": 3,
   "metadata": {},
   "outputs": [
    {
     "data": {
      "text/html": [
       "<div>\n",
       "<style scoped>\n",
       "    .dataframe tbody tr th:only-of-type {\n",
       "        vertical-align: middle;\n",
       "    }\n",
       "\n",
       "    .dataframe tbody tr th {\n",
       "        vertical-align: top;\n",
       "    }\n",
       "\n",
       "    .dataframe thead th {\n",
       "        text-align: right;\n",
       "    }\n",
       "</style>\n",
       "<table border=\"1\" class=\"dataframe\">\n",
       "  <thead>\n",
       "    <tr style=\"text-align: right;\">\n",
       "      <th></th>\n",
       "      <th>Unnamed: 0</th>\n",
       "      <th>price</th>\n",
       "      <th>brand</th>\n",
       "      <th>model</th>\n",
       "      <th>year</th>\n",
       "      <th>title_status</th>\n",
       "      <th>mileage</th>\n",
       "      <th>color</th>\n",
       "      <th>vin</th>\n",
       "      <th>lot</th>\n",
       "      <th>state</th>\n",
       "      <th>country</th>\n",
       "      <th>condition</th>\n",
       "    </tr>\n",
       "  </thead>\n",
       "  <tbody>\n",
       "    <tr>\n",
       "      <th>0</th>\n",
       "      <td>0</td>\n",
       "      <td>6300</td>\n",
       "      <td>toyota</td>\n",
       "      <td>cruiser</td>\n",
       "      <td>2008</td>\n",
       "      <td>clean vehicle</td>\n",
       "      <td>274117.0</td>\n",
       "      <td>black</td>\n",
       "      <td>jtezu11f88k007763</td>\n",
       "      <td>159348797</td>\n",
       "      <td>new jersey</td>\n",
       "      <td>usa</td>\n",
       "      <td>10 days left</td>\n",
       "    </tr>\n",
       "    <tr>\n",
       "      <th>1</th>\n",
       "      <td>1</td>\n",
       "      <td>2899</td>\n",
       "      <td>ford</td>\n",
       "      <td>se</td>\n",
       "      <td>2011</td>\n",
       "      <td>clean vehicle</td>\n",
       "      <td>190552.0</td>\n",
       "      <td>silver</td>\n",
       "      <td>2fmdk3gc4bbb02217</td>\n",
       "      <td>166951262</td>\n",
       "      <td>tennessee</td>\n",
       "      <td>usa</td>\n",
       "      <td>6 days left</td>\n",
       "    </tr>\n",
       "    <tr>\n",
       "      <th>2</th>\n",
       "      <td>2</td>\n",
       "      <td>5350</td>\n",
       "      <td>dodge</td>\n",
       "      <td>mpv</td>\n",
       "      <td>2018</td>\n",
       "      <td>clean vehicle</td>\n",
       "      <td>39590.0</td>\n",
       "      <td>silver</td>\n",
       "      <td>3c4pdcgg5jt346413</td>\n",
       "      <td>167655728</td>\n",
       "      <td>georgia</td>\n",
       "      <td>usa</td>\n",
       "      <td>2 days left</td>\n",
       "    </tr>\n",
       "    <tr>\n",
       "      <th>3</th>\n",
       "      <td>3</td>\n",
       "      <td>25000</td>\n",
       "      <td>ford</td>\n",
       "      <td>door</td>\n",
       "      <td>2014</td>\n",
       "      <td>clean vehicle</td>\n",
       "      <td>64146.0</td>\n",
       "      <td>blue</td>\n",
       "      <td>1ftfw1et4efc23745</td>\n",
       "      <td>167753855</td>\n",
       "      <td>virginia</td>\n",
       "      <td>usa</td>\n",
       "      <td>22 hours left</td>\n",
       "    </tr>\n",
       "    <tr>\n",
       "      <th>4</th>\n",
       "      <td>4</td>\n",
       "      <td>27700</td>\n",
       "      <td>chevrolet</td>\n",
       "      <td>1500</td>\n",
       "      <td>2018</td>\n",
       "      <td>clean vehicle</td>\n",
       "      <td>6654.0</td>\n",
       "      <td>red</td>\n",
       "      <td>3gcpcrec2jg473991</td>\n",
       "      <td>167763266</td>\n",
       "      <td>florida</td>\n",
       "      <td>usa</td>\n",
       "      <td>22 hours left</td>\n",
       "    </tr>\n",
       "  </tbody>\n",
       "</table>\n",
       "</div>"
      ],
      "text/plain": [
       "   Unnamed: 0  price      brand    model  year   title_status   mileage  \\\n",
       "0           0   6300     toyota  cruiser  2008  clean vehicle  274117.0   \n",
       "1           1   2899       ford       se  2011  clean vehicle  190552.0   \n",
       "2           2   5350      dodge      mpv  2018  clean vehicle   39590.0   \n",
       "3           3  25000       ford     door  2014  clean vehicle   64146.0   \n",
       "4           4  27700  chevrolet     1500  2018  clean vehicle    6654.0   \n",
       "\n",
       "    color                  vin        lot       state country      condition  \n",
       "0   black    jtezu11f88k007763  159348797  new jersey     usa   10 days left  \n",
       "1  silver    2fmdk3gc4bbb02217  166951262   tennessee     usa    6 days left  \n",
       "2  silver    3c4pdcgg5jt346413  167655728     georgia     usa    2 days left  \n",
       "3    blue    1ftfw1et4efc23745  167753855    virginia     usa  22 hours left  \n",
       "4     red    3gcpcrec2jg473991  167763266     florida     usa  22 hours left  "
      ]
     },
     "execution_count": 3,
     "metadata": {},
     "output_type": "execute_result"
    }
   ],
   "source": [
    "df.head()"
   ]
  },
  {
   "cell_type": "code",
   "execution_count": 4,
   "metadata": {},
   "outputs": [],
   "source": [
    "# drop ID columns\n",
    "drop_cols = ['Unnamed: 0', 'vin','lot','condition','country']\n",
    "\n",
    "df=df.drop(drop_cols, axis=1)"
   ]
  },
  {
   "cell_type": "code",
   "execution_count": 5,
   "metadata": {},
   "outputs": [
    {
     "data": {
      "text/html": [
       "<div>\n",
       "<style scoped>\n",
       "    .dataframe tbody tr th:only-of-type {\n",
       "        vertical-align: middle;\n",
       "    }\n",
       "\n",
       "    .dataframe tbody tr th {\n",
       "        vertical-align: top;\n",
       "    }\n",
       "\n",
       "    .dataframe thead th {\n",
       "        text-align: right;\n",
       "    }\n",
       "</style>\n",
       "<table border=\"1\" class=\"dataframe\">\n",
       "  <thead>\n",
       "    <tr style=\"text-align: right;\">\n",
       "      <th></th>\n",
       "      <th>price</th>\n",
       "      <th>brand</th>\n",
       "      <th>model</th>\n",
       "      <th>year</th>\n",
       "      <th>title_status</th>\n",
       "      <th>mileage</th>\n",
       "      <th>color</th>\n",
       "      <th>state</th>\n",
       "    </tr>\n",
       "  </thead>\n",
       "  <tbody>\n",
       "    <tr>\n",
       "      <th>count</th>\n",
       "      <td>2499.000000</td>\n",
       "      <td>2499</td>\n",
       "      <td>2499</td>\n",
       "      <td>2499.000000</td>\n",
       "      <td>2499</td>\n",
       "      <td>2.499000e+03</td>\n",
       "      <td>2499</td>\n",
       "      <td>2499</td>\n",
       "    </tr>\n",
       "    <tr>\n",
       "      <th>unique</th>\n",
       "      <td>NaN</td>\n",
       "      <td>28</td>\n",
       "      <td>127</td>\n",
       "      <td>NaN</td>\n",
       "      <td>2</td>\n",
       "      <td>NaN</td>\n",
       "      <td>49</td>\n",
       "      <td>44</td>\n",
       "    </tr>\n",
       "    <tr>\n",
       "      <th>top</th>\n",
       "      <td>NaN</td>\n",
       "      <td>ford</td>\n",
       "      <td>door</td>\n",
       "      <td>NaN</td>\n",
       "      <td>clean vehicle</td>\n",
       "      <td>NaN</td>\n",
       "      <td>white</td>\n",
       "      <td>pennsylvania</td>\n",
       "    </tr>\n",
       "    <tr>\n",
       "      <th>freq</th>\n",
       "      <td>NaN</td>\n",
       "      <td>1235</td>\n",
       "      <td>651</td>\n",
       "      <td>NaN</td>\n",
       "      <td>2336</td>\n",
       "      <td>NaN</td>\n",
       "      <td>707</td>\n",
       "      <td>299</td>\n",
       "    </tr>\n",
       "    <tr>\n",
       "      <th>mean</th>\n",
       "      <td>18767.671469</td>\n",
       "      <td>NaN</td>\n",
       "      <td>NaN</td>\n",
       "      <td>2016.714286</td>\n",
       "      <td>NaN</td>\n",
       "      <td>5.229869e+04</td>\n",
       "      <td>NaN</td>\n",
       "      <td>NaN</td>\n",
       "    </tr>\n",
       "    <tr>\n",
       "      <th>std</th>\n",
       "      <td>12116.094936</td>\n",
       "      <td>NaN</td>\n",
       "      <td>NaN</td>\n",
       "      <td>3.442656</td>\n",
       "      <td>NaN</td>\n",
       "      <td>5.970552e+04</td>\n",
       "      <td>NaN</td>\n",
       "      <td>NaN</td>\n",
       "    </tr>\n",
       "    <tr>\n",
       "      <th>min</th>\n",
       "      <td>0.000000</td>\n",
       "      <td>NaN</td>\n",
       "      <td>NaN</td>\n",
       "      <td>1973.000000</td>\n",
       "      <td>NaN</td>\n",
       "      <td>0.000000e+00</td>\n",
       "      <td>NaN</td>\n",
       "      <td>NaN</td>\n",
       "    </tr>\n",
       "    <tr>\n",
       "      <th>25%</th>\n",
       "      <td>10200.000000</td>\n",
       "      <td>NaN</td>\n",
       "      <td>NaN</td>\n",
       "      <td>2016.000000</td>\n",
       "      <td>NaN</td>\n",
       "      <td>2.146650e+04</td>\n",
       "      <td>NaN</td>\n",
       "      <td>NaN</td>\n",
       "    </tr>\n",
       "    <tr>\n",
       "      <th>50%</th>\n",
       "      <td>16900.000000</td>\n",
       "      <td>NaN</td>\n",
       "      <td>NaN</td>\n",
       "      <td>2018.000000</td>\n",
       "      <td>NaN</td>\n",
       "      <td>3.536500e+04</td>\n",
       "      <td>NaN</td>\n",
       "      <td>NaN</td>\n",
       "    </tr>\n",
       "    <tr>\n",
       "      <th>75%</th>\n",
       "      <td>25555.500000</td>\n",
       "      <td>NaN</td>\n",
       "      <td>NaN</td>\n",
       "      <td>2019.000000</td>\n",
       "      <td>NaN</td>\n",
       "      <td>6.347250e+04</td>\n",
       "      <td>NaN</td>\n",
       "      <td>NaN</td>\n",
       "    </tr>\n",
       "    <tr>\n",
       "      <th>max</th>\n",
       "      <td>84900.000000</td>\n",
       "      <td>NaN</td>\n",
       "      <td>NaN</td>\n",
       "      <td>2020.000000</td>\n",
       "      <td>NaN</td>\n",
       "      <td>1.017936e+06</td>\n",
       "      <td>NaN</td>\n",
       "      <td>NaN</td>\n",
       "    </tr>\n",
       "  </tbody>\n",
       "</table>\n",
       "</div>"
      ],
      "text/plain": [
       "               price brand model         year   title_status       mileage  \\\n",
       "count    2499.000000  2499  2499  2499.000000           2499  2.499000e+03   \n",
       "unique           NaN    28   127          NaN              2           NaN   \n",
       "top              NaN  ford  door          NaN  clean vehicle           NaN   \n",
       "freq             NaN  1235   651          NaN           2336           NaN   \n",
       "mean    18767.671469   NaN   NaN  2016.714286            NaN  5.229869e+04   \n",
       "std     12116.094936   NaN   NaN     3.442656            NaN  5.970552e+04   \n",
       "min         0.000000   NaN   NaN  1973.000000            NaN  0.000000e+00   \n",
       "25%     10200.000000   NaN   NaN  2016.000000            NaN  2.146650e+04   \n",
       "50%     16900.000000   NaN   NaN  2018.000000            NaN  3.536500e+04   \n",
       "75%     25555.500000   NaN   NaN  2019.000000            NaN  6.347250e+04   \n",
       "max     84900.000000   NaN   NaN  2020.000000            NaN  1.017936e+06   \n",
       "\n",
       "        color         state  \n",
       "count    2499          2499  \n",
       "unique     49            44  \n",
       "top     white  pennsylvania  \n",
       "freq      707           299  \n",
       "mean      NaN           NaN  \n",
       "std       NaN           NaN  \n",
       "min       NaN           NaN  \n",
       "25%       NaN           NaN  \n",
       "50%       NaN           NaN  \n",
       "75%       NaN           NaN  \n",
       "max       NaN           NaN  "
      ]
     },
     "execution_count": 5,
     "metadata": {},
     "output_type": "execute_result"
    }
   ],
   "source": [
    "df.describe(include='all')"
   ]
  },
  {
   "cell_type": "code",
   "execution_count": 6,
   "metadata": {},
   "outputs": [
    {
     "data": {
      "text/plain": [
       "price           0\n",
       "brand           0\n",
       "model           0\n",
       "year            0\n",
       "title_status    0\n",
       "mileage         0\n",
       "color           0\n",
       "state           0\n",
       "dtype: int64"
      ]
     },
     "execution_count": 6,
     "metadata": {},
     "output_type": "execute_result"
    }
   ],
   "source": [
    "# check for null values\n",
    "df.isnull().sum()"
   ]
  },
  {
   "cell_type": "code",
   "execution_count": 7,
   "metadata": {},
   "outputs": [
    {
     "name": "stdout",
     "output_type": "stream",
     "text": [
      "brand 0\n",
      "model 0\n",
      "title_status 0\n",
      "color 0\n",
      "state 0\n"
     ]
    }
   ],
   "source": [
    "# check for \"?\" values\n",
    "for col in df.columns:\n",
    "    if df[col].dtype == object:\n",
    "         print(col,df[col][df[col] == '?'].count())"
   ]
  },
  {
   "cell_type": "code",
   "execution_count": 8,
   "metadata": {},
   "outputs": [
    {
     "name": "stdout",
     "output_type": "stream",
     "text": [
      "<class 'pandas.core.frame.DataFrame'>\n",
      "RangeIndex: 2499 entries, 0 to 2498\n",
      "Data columns (total 8 columns):\n",
      " #   Column        Non-Null Count  Dtype  \n",
      "---  ------        --------------  -----  \n",
      " 0   price         2499 non-null   int64  \n",
      " 1   brand         2499 non-null   object \n",
      " 2   model         2499 non-null   object \n",
      " 3   year          2499 non-null   int64  \n",
      " 4   title_status  2499 non-null   object \n",
      " 5   mileage       2499 non-null   float64\n",
      " 6   color         2499 non-null   object \n",
      " 7   state         2499 non-null   object \n",
      "dtypes: float64(1), int64(2), object(5)\n",
      "memory usage: 156.3+ KB\n"
     ]
    }
   ],
   "source": [
    "#looking at the datatypes\n",
    "df.info()"
   ]
  },
  {
   "cell_type": "code",
   "execution_count": 9,
   "metadata": {
    "scrolled": true
   },
   "outputs": [
    {
     "data": {
      "text/plain": [
       "ford               1235\n",
       "dodge               432\n",
       "nissan              312\n",
       "chevrolet           297\n",
       "gmc                  42\n",
       "jeep                 30\n",
       "chrysler             18\n",
       "bmw                  17\n",
       "hyundai              15\n",
       "buick                13\n",
       "kia                  13\n",
       "infiniti             12\n",
       "honda                12\n",
       "cadillac             10\n",
       "mercedes-benz        10\n",
       "heartland             5\n",
       "peterbilt             4\n",
       "audi                  4\n",
       "land                  4\n",
       "acura                 3\n",
       "lexus                 2\n",
       "mazda                 2\n",
       "lincoln               2\n",
       "jaguar                1\n",
       "toyota                1\n",
       "harley-davidson       1\n",
       "maserati              1\n",
       "ram                   1\n",
       "Name: brand, dtype: int64"
      ]
     },
     "execution_count": 9,
     "metadata": {},
     "output_type": "execute_result"
    }
   ],
   "source": [
    "#top brands\n",
    "df.brand.value_counts()"
   ]
  },
  {
   "cell_type": "code",
   "execution_count": 15,
   "metadata": {},
   "outputs": [
    {
     "data": {
      "text/plain": [
       "Text(0.5, 1.0, 'Top 10 Cars by Year')"
      ]
     },
     "execution_count": 15,
     "metadata": {},
     "output_type": "execute_result"
    },
    {
     "data": {
      "image/png": "[encoded data removed]",
      "text/plain": [
       "<Figure size 504x720 with 1 Axes>"
      ]
     },
     "metadata": {},
     "output_type": "display_data"
    }
   ],
   "source": [
    "#pie graph of years\n",
    "df.year.value_counts().head(10).plot(kind='pie', figsize=(7,10))\n",
    "plt.title('Top 10 Cars by Year')"
   ]
  },
  {
   "cell_type": "code",
   "execution_count": 16,
   "metadata": {
    "scrolled": true
   },
   "outputs": [
    {
     "data": {
      "text/plain": [
       "0        43\n",
       "16500    26\n",
       "13900    21\n",
       "15000    19\n",
       "15500    19\n",
       "Name: price, dtype: int64"
      ]
     },
     "execution_count": 16,
     "metadata": {},
     "output_type": "execute_result"
    }
   ],
   "source": [
    "#most common prices\n",
    "df.price.value_counts().head()"
   ]
  },
  {
   "cell_type": "code",
   "execution_count": 17,
   "metadata": {},
   "outputs": [
    {
     "data": {
      "text/plain": [
       "16900.0"
      ]
     },
     "execution_count": 17,
     "metadata": {},
     "output_type": "execute_result"
    }
   ],
   "source": [
    "#middle price\n",
    "df.price.median()"
   ]
  },
  {
   "cell_type": "code",
   "execution_count": 18,
   "metadata": {
    "scrolled": true
   },
   "outputs": [
    {
     "data": {
      "text/plain": [
       "(2499, 8)"
      ]
     },
     "execution_count": 18,
     "metadata": {},
     "output_type": "execute_result"
    }
   ],
   "source": [
    "df.shape"
   ]
  },
  {
   "cell_type": "code",
   "execution_count": 19,
   "metadata": {},
   "outputs": [
    {
     "data": {
      "text/plain": [
       "0.01720688275310124"
      ]
     },
     "execution_count": 19,
     "metadata": {},
     "output_type": "execute_result"
    }
   ],
   "source": [
    "#percent of missing price values\n",
    "(df.price==0).sum()/df.shape[0]"
   ]
  },
  {
   "cell_type": "code",
   "execution_count": 20,
   "metadata": {
    "scrolled": true
   },
   "outputs": [],
   "source": [
    "#drop missing prices\n",
    "df = df.drop(df[df.price == 0].index)"
   ]
  },
  {
   "cell_type": "code",
   "execution_count": 21,
   "metadata": {},
   "outputs": [
    {
     "data": {
      "text/plain": [
       "(2456, 8)"
      ]
     },
     "execution_count": 21,
     "metadata": {},
     "output_type": "execute_result"
    }
   ],
   "source": [
    "#shape after deleting 43 missing prices\n",
    "df.shape"
   ]
  },
  {
   "cell_type": "code",
   "execution_count": 22,
   "metadata": {
    "scrolled": true
   },
   "outputs": [
    {
     "data": {
      "text/html": [
       "<div>\n",
       "<style scoped>\n",
       "    .dataframe tbody tr th:only-of-type {\n",
       "        vertical-align: middle;\n",
       "    }\n",
       "\n",
       "    .dataframe tbody tr th {\n",
       "        vertical-align: top;\n",
       "    }\n",
       "\n",
       "    .dataframe thead th {\n",
       "        text-align: right;\n",
       "    }\n",
       "</style>\n",
       "<table border=\"1\" class=\"dataframe\">\n",
       "  <thead>\n",
       "    <tr style=\"text-align: right;\">\n",
       "      <th></th>\n",
       "      <th>price</th>\n",
       "      <th>brand</th>\n",
       "      <th>model</th>\n",
       "      <th>year</th>\n",
       "      <th>title_status</th>\n",
       "      <th>mileage</th>\n",
       "      <th>color</th>\n",
       "      <th>state</th>\n",
       "    </tr>\n",
       "  </thead>\n",
       "  <tbody>\n",
       "    <tr>\n",
       "      <th>72</th>\n",
       "      <td>29400</td>\n",
       "      <td>bmw</td>\n",
       "      <td>x3</td>\n",
       "      <td>2017</td>\n",
       "      <td>clean vehicle</td>\n",
       "      <td>23765.0</td>\n",
       "      <td>black</td>\n",
       "      <td>tennessee</td>\n",
       "    </tr>\n",
       "    <tr>\n",
       "      <th>92</th>\n",
       "      <td>24500</td>\n",
       "      <td>bmw</td>\n",
       "      <td>door</td>\n",
       "      <td>2017</td>\n",
       "      <td>clean vehicle</td>\n",
       "      <td>17626.0</td>\n",
       "      <td>gray</td>\n",
       "      <td>michigan</td>\n",
       "    </tr>\n",
       "    <tr>\n",
       "      <th>95</th>\n",
       "      <td>53500</td>\n",
       "      <td>bmw</td>\n",
       "      <td>m</td>\n",
       "      <td>2017</td>\n",
       "      <td>clean vehicle</td>\n",
       "      <td>29355.0</td>\n",
       "      <td>blue</td>\n",
       "      <td>michigan</td>\n",
       "    </tr>\n",
       "    <tr>\n",
       "      <th>162</th>\n",
       "      <td>39000</td>\n",
       "      <td>bmw</td>\n",
       "      <td>series</td>\n",
       "      <td>2016</td>\n",
       "      <td>clean vehicle</td>\n",
       "      <td>39917.0</td>\n",
       "      <td>blue</td>\n",
       "      <td>michigan</td>\n",
       "    </tr>\n",
       "    <tr>\n",
       "      <th>165</th>\n",
       "      <td>40000</td>\n",
       "      <td>bmw</td>\n",
       "      <td>series</td>\n",
       "      <td>2016</td>\n",
       "      <td>clean vehicle</td>\n",
       "      <td>31727.0</td>\n",
       "      <td>gray</td>\n",
       "      <td>michigan</td>\n",
       "    </tr>\n",
       "    <tr>\n",
       "      <th>171</th>\n",
       "      <td>39000</td>\n",
       "      <td>bmw</td>\n",
       "      <td>series</td>\n",
       "      <td>2016</td>\n",
       "      <td>clean vehicle</td>\n",
       "      <td>33110.0</td>\n",
       "      <td>black</td>\n",
       "      <td>michigan</td>\n",
       "    </tr>\n",
       "    <tr>\n",
       "      <th>234</th>\n",
       "      <td>6200</td>\n",
       "      <td>bmw</td>\n",
       "      <td>door</td>\n",
       "      <td>2011</td>\n",
       "      <td>clean vehicle</td>\n",
       "      <td>80394.0</td>\n",
       "      <td>gray</td>\n",
       "      <td>texas</td>\n",
       "    </tr>\n",
       "    <tr>\n",
       "      <th>375</th>\n",
       "      <td>2925</td>\n",
       "      <td>bmw</td>\n",
       "      <td>door</td>\n",
       "      <td>2013</td>\n",
       "      <td>salvage insurance</td>\n",
       "      <td>46060.0</td>\n",
       "      <td>white</td>\n",
       "      <td>florida</td>\n",
       "    </tr>\n",
       "    <tr>\n",
       "      <th>399</th>\n",
       "      <td>61200</td>\n",
       "      <td>bmw</td>\n",
       "      <td>series</td>\n",
       "      <td>2020</td>\n",
       "      <td>clean vehicle</td>\n",
       "      <td>7509.0</td>\n",
       "      <td>black</td>\n",
       "      <td>california</td>\n",
       "    </tr>\n",
       "    <tr>\n",
       "      <th>401</th>\n",
       "      <td>13500</td>\n",
       "      <td>bmw</td>\n",
       "      <td>series</td>\n",
       "      <td>2014</td>\n",
       "      <td>clean vehicle</td>\n",
       "      <td>33542.0</td>\n",
       "      <td>blue</td>\n",
       "      <td>new jersey</td>\n",
       "    </tr>\n",
       "    <tr>\n",
       "      <th>411</th>\n",
       "      <td>1825</td>\n",
       "      <td>bmw</td>\n",
       "      <td>coupe</td>\n",
       "      <td>2008</td>\n",
       "      <td>salvage insurance</td>\n",
       "      <td>77984.0</td>\n",
       "      <td>white</td>\n",
       "      <td>georgia</td>\n",
       "    </tr>\n",
       "    <tr>\n",
       "      <th>412</th>\n",
       "      <td>39800</td>\n",
       "      <td>bmw</td>\n",
       "      <td>series</td>\n",
       "      <td>2017</td>\n",
       "      <td>clean vehicle</td>\n",
       "      <td>23177.0</td>\n",
       "      <td>blue</td>\n",
       "      <td>california</td>\n",
       "    </tr>\n",
       "    <tr>\n",
       "      <th>467</th>\n",
       "      <td>15000</td>\n",
       "      <td>bmw</td>\n",
       "      <td>door</td>\n",
       "      <td>2014</td>\n",
       "      <td>clean vehicle</td>\n",
       "      <td>44730.0</td>\n",
       "      <td>silver</td>\n",
       "      <td>illinois</td>\n",
       "    </tr>\n",
       "    <tr>\n",
       "      <th>597</th>\n",
       "      <td>29700</td>\n",
       "      <td>bmw</td>\n",
       "      <td>series</td>\n",
       "      <td>2016</td>\n",
       "      <td>clean vehicle</td>\n",
       "      <td>24293.0</td>\n",
       "      <td>no_color</td>\n",
       "      <td>texas</td>\n",
       "    </tr>\n",
       "    <tr>\n",
       "      <th>615</th>\n",
       "      <td>33500</td>\n",
       "      <td>bmw</td>\n",
       "      <td>series</td>\n",
       "      <td>2017</td>\n",
       "      <td>clean vehicle</td>\n",
       "      <td>22115.0</td>\n",
       "      <td>blue</td>\n",
       "      <td>wisconsin</td>\n",
       "    </tr>\n",
       "    <tr>\n",
       "      <th>627</th>\n",
       "      <td>19700</td>\n",
       "      <td>bmw</td>\n",
       "      <td>x3</td>\n",
       "      <td>2017</td>\n",
       "      <td>clean vehicle</td>\n",
       "      <td>61428.0</td>\n",
       "      <td>black</td>\n",
       "      <td>wisconsin</td>\n",
       "    </tr>\n",
       "  </tbody>\n",
       "</table>\n",
       "</div>"
      ],
      "text/plain": [
       "     price brand   model  year       title_status  mileage     color  \\\n",
       "72   29400   bmw      x3  2017      clean vehicle  23765.0     black   \n",
       "92   24500   bmw    door  2017      clean vehicle  17626.0      gray   \n",
       "95   53500   bmw       m  2017      clean vehicle  29355.0      blue   \n",
       "162  39000   bmw  series  2016      clean vehicle  39917.0      blue   \n",
       "165  40000   bmw  series  2016      clean vehicle  31727.0      gray   \n",
       "171  39000   bmw  series  2016      clean vehicle  33110.0     black   \n",
       "234   6200   bmw    door  2011      clean vehicle  80394.0      gray   \n",
       "375   2925   bmw    door  2013  salvage insurance  46060.0     white   \n",
       "399  61200   bmw  series  2020      clean vehicle   7509.0     black   \n",
       "401  13500   bmw  series  2014      clean vehicle  33542.0      blue   \n",
       "411   1825   bmw   coupe  2008  salvage insurance  77984.0     white   \n",
       "412  39800   bmw  series  2017      clean vehicle  23177.0      blue   \n",
       "467  15000   bmw    door  2014      clean vehicle  44730.0    silver   \n",
       "597  29700   bmw  series  2016      clean vehicle  24293.0  no_color   \n",
       "615  33500   bmw  series  2017      clean vehicle  22115.0      blue   \n",
       "627  19700   bmw      x3  2017      clean vehicle  61428.0     black   \n",
       "\n",
       "          state  \n",
       "72    tennessee  \n",
       "92     michigan  \n",
       "95     michigan  \n",
       "162    michigan  \n",
       "165    michigan  \n",
       "171    michigan  \n",
       "234       texas  \n",
       "375     florida  \n",
       "399  california  \n",
       "401  new jersey  \n",
       "411     georgia  \n",
       "412  california  \n",
       "467    illinois  \n",
       "597       texas  \n",
       "615   wisconsin  \n",
       "627   wisconsin  "
      ]
     },
     "execution_count": 22,
     "metadata": {},
     "output_type": "execute_result"
    }
   ],
   "source": [
    "#conditional selection of bmw cars only\n",
    "df.loc[df.brand=='bmw']"
   ]
  },
  {
   "cell_type": "code",
   "execution_count": 24,
   "metadata": {
    "scrolled": true
   },
   "outputs": [
    {
     "data": {
      "image/png": "[encoded data removed]",
      "text/plain": [
       "<Figure size 936x432 with 1 Axes>"
      ]
     },
     "metadata": {
      "needs_background": "light"
     },
     "output_type": "display_data"
    }
   ],
   "source": [
    "#histogram of price\n",
    "plt.figure(figsize=(13,6))\n",
    "sns.distplot(df['price'] , fit=norm);"
   ]
  },
  {
   "cell_type": "code",
   "execution_count": 25,
   "metadata": {},
   "outputs": [
    {
     "data": {
      "text/plain": [
       "19096.2585504886"
      ]
     },
     "execution_count": 25,
     "metadata": {},
     "output_type": "execute_result"
    }
   ],
   "source": [
    "df.price.mean()"
   ]
  },
  {
   "cell_type": "code",
   "execution_count": 26,
   "metadata": {},
   "outputs": [],
   "source": [
    "above_ave_price = df[df.price>18768]"
   ]
  },
  {
   "cell_type": "code",
   "execution_count": 27,
   "metadata": {},
   "outputs": [
    {
     "data": {
      "text/plain": [
       "<matplotlib.axes._subplots.AxesSubplot at 0x1a1f319690>"
      ]
     },
     "execution_count": 27,
     "metadata": {},
     "output_type": "execute_result"
    },
    {
     "data": {
      "image/png": "[encoded data removed]",
      "text/plain": [
       "<Figure size 432x288 with 1 Axes>"
      ]
     },
     "metadata": {
      "needs_background": "light"
     },
     "output_type": "display_data"
    }
   ],
   "source": [
    "#graph of most common above average priced car models\n",
    "above_ave_price.model.value_counts().head(20).plot(kind='bar',color='green')"
   ]
  },
  {
   "cell_type": "code",
   "execution_count": 28,
   "metadata": {},
   "outputs": [],
   "source": [
    "#75th percentile price is 25555\n",
    "expensive=df[df.price>25555]"
   ]
  },
  {
   "cell_type": "code",
   "execution_count": 29,
   "metadata": {},
   "outputs": [
    {
     "data": {
      "text/plain": [
       "<matplotlib.axes._subplots.AxesSubplot at 0x1a1f0a96d0>"
      ]
     },
     "execution_count": 29,
     "metadata": {},
     "output_type": "execute_result"
    },
    {
     "data": {
      "image/png": "[encoded data removed]",
      "text/plain": [
       "<Figure size 432x288 with 1 Axes>"
      ]
     },
     "metadata": {
      "needs_background": "light"
     },
     "output_type": "display_data"
    }
   ],
   "source": [
    "#graph of most common car models in the 75th percentile\n",
    "expensive.model.value_counts().head(20).plot(kind='bar',color='blue')"
   ]
  },
  {
   "cell_type": "code",
   "execution_count": 30,
   "metadata": {},
   "outputs": [
    {
     "data": {
      "text/plain": [
       "<matplotlib.axes._subplots.AxesSubplot at 0x1a1f552190>"
      ]
     },
     "execution_count": 30,
     "metadata": {},
     "output_type": "execute_result"
    },
    {
     "data": {
      "image/png": "[encoded data removed]",
      "text/plain": [
       "<Figure size 432x288 with 1 Axes>"
      ]
     },
     "metadata": {
      "needs_background": "light"
     },
     "output_type": "display_data"
    }
   ],
   "source": [
    "# graph of most common car brands in the 75th percentile\n",
    "expensive.brand.value_counts().head(10).plot(kind='bar')"
   ]
  },
  {
   "cell_type": "code",
   "execution_count": 31,
   "metadata": {},
   "outputs": [
    {
     "data": {
      "text/html": [
       "<div>\n",
       "<style scoped>\n",
       "    .dataframe tbody tr th:only-of-type {\n",
       "        vertical-align: middle;\n",
       "    }\n",
       "\n",
       "    .dataframe tbody tr th {\n",
       "        vertical-align: top;\n",
       "    }\n",
       "\n",
       "    .dataframe thead th {\n",
       "        text-align: right;\n",
       "    }\n",
       "</style>\n",
       "<table border=\"1\" class=\"dataframe\">\n",
       "  <thead>\n",
       "    <tr style=\"text-align: right;\">\n",
       "      <th></th>\n",
       "      <th>price</th>\n",
       "      <th>brand</th>\n",
       "      <th>model</th>\n",
       "      <th>year</th>\n",
       "      <th>title_status</th>\n",
       "      <th>mileage</th>\n",
       "      <th>color</th>\n",
       "      <th>state</th>\n",
       "    </tr>\n",
       "  </thead>\n",
       "  <tbody>\n",
       "    <tr>\n",
       "      <th>502</th>\n",
       "      <td>84900</td>\n",
       "      <td>mercedes-benz</td>\n",
       "      <td>sl-class</td>\n",
       "      <td>2017</td>\n",
       "      <td>clean vehicle</td>\n",
       "      <td>25302.0</td>\n",
       "      <td>silver</td>\n",
       "      <td>florida</td>\n",
       "    </tr>\n",
       "  </tbody>\n",
       "</table>\n",
       "</div>"
      ],
      "text/plain": [
       "     price          brand     model  year   title_status  mileage   color  \\\n",
       "502  84900  mercedes-benz  sl-class  2017  clean vehicle  25302.0  silver   \n",
       "\n",
       "       state  \n",
       "502  florida  "
      ]
     },
     "execution_count": 31,
     "metadata": {},
     "output_type": "execute_result"
    }
   ],
   "source": [
    "#most expensive car\n",
    "df.loc[df.price == df.price.max()]"
   ]
  },
  {
   "cell_type": "code",
   "execution_count": 32,
   "metadata": {},
   "outputs": [
    {
     "data": {
      "text/plain": [
       "array(['clean vehicle', 'salvage insurance'], dtype=object)"
      ]
     },
     "execution_count": 32,
     "metadata": {},
     "output_type": "execute_result"
    }
   ],
   "source": [
    "#title status values\n",
    "df.title_status.unique()"
   ]
  },
  {
   "cell_type": "code",
   "execution_count": 11,
   "metadata": {},
   "outputs": [
    {
     "data": {
      "text/plain": [
       "Text(0, 0.5, 'Count')"
      ]
     },
     "execution_count": 11,
     "metadata": {},
     "output_type": "execute_result"
    },
    {
     "data": {
      "image/png": "[encoded data removed]",
      "text/plain": [
       "<Figure size 432x288 with 1 Axes>"
      ]
     },
     "metadata": {
      "needs_background": "light"
     },
     "output_type": "display_data"
    }
   ],
   "source": [
    "#plot title status count\n",
    "df.title_status.value_counts().sort_values().plot(kind='barh', color='coral')\n",
    "plt.title('Total Title Status Count')\n",
    "plt.xlabel('Title Status')\n",
    "plt.ylabel('Count')"
   ]
  },
  {
   "cell_type": "code",
   "execution_count": 33,
   "metadata": {},
   "outputs": [
    {
     "data": {
      "text/plain": [
       "<matplotlib.axes._subplots.AxesSubplot at 0x1a1f660790>"
      ]
     },
     "execution_count": 33,
     "metadata": {},
     "output_type": "execute_result"
    },
    {
     "data": {
      "image/png": "[encoded data removed]",
      "text/plain": [
       "<Figure size 720x288 with 1 Axes>"
      ]
     },
     "metadata": {
      "needs_background": "light"
     },
     "output_type": "display_data"
    }
   ],
   "source": [
    "#graph of clean vehicles with average values\n",
    "df[df.title_status=='clean vehicle'].mean().plot(kind='barh',figsize=(10,4), color='pink')"
   ]
  },
  {
   "cell_type": "code",
   "execution_count": 34,
   "metadata": {},
   "outputs": [
    {
     "data": {
      "text/plain": [
       "<matplotlib.axes._subplots.AxesSubplot at 0x1a1f0c9dd0>"
      ]
     },
     "execution_count": 34,
     "metadata": {},
     "output_type": "execute_result"
    },
    {
     "data": {
      "image/png": "[encoded data removed]",
      "text/plain": [
       "<Figure size 720x288 with 1 Axes>"
      ]
     },
     "metadata": {
      "needs_background": "light"
     },
     "output_type": "display_data"
    }
   ],
   "source": [
    "#graph of salvage insurance with average values\n",
    "df[df.title_status=='salvage insurance'].mean().plot(kind='barh',figsize=(10,4), color='lightblue')"
   ]
  },
  {
   "cell_type": "code",
   "execution_count": 12,
   "metadata": {
    "scrolled": true
   },
   "outputs": [
    {
     "data": {
      "text/plain": [
       "white                                      707\n",
       "black                                      516\n",
       "gray                                       395\n",
       "silver                                     300\n",
       "red                                        192\n",
       "blue                                       151\n",
       "no_color                                    61\n",
       "green                                       24\n",
       "orange                                      20\n",
       "gold                                        19\n",
       "charcoal                                    18\n",
       "brown                                       15\n",
       "yellow                                       9\n",
       "magnetic metallic                            6\n",
       "beige                                        5\n",
       "shadow black                                 5\n",
       "color:                                       5\n",
       "oxford white                                 4\n",
       "ingot silver metallic                        4\n",
       "super black                                  3\n",
       "triple yellow tri-coat                       3\n",
       "billet silver metallic clearcoat             3\n",
       "bright white clearcoat                       2\n",
       "black clearcoat                              2\n",
       "cayenne red                                  2\n",
       "white platinum tri-coat metallic             2\n",
       "ruby red metallic tinted clearcoat           2\n",
       "off-white                                    2\n",
       "tuxedo black metallic                        2\n",
       "phantom black                                1\n",
       "royal crimson metallic tinted clearcoat      1\n",
       "pearl white                                  1\n",
       "guard                                        1\n",
       "morningsky blue                              1\n",
       "maroon                                       1\n",
       "glacier white                                1\n",
       "toreador red                                 1\n",
       "ingot silver                                 1\n",
       "ruby red                                     1\n",
       "light blue                                   1\n",
       "lightning blue                               1\n",
       "burgundy                                     1\n",
       "competition orange                           1\n",
       "kona blue metallic                           1\n",
       "purple                                       1\n",
       "tan                                          1\n",
       "turquoise                                    1\n",
       "dark blue                                    1\n",
       "jazz blue pearlcoat                          1\n",
       "Name: color, dtype: int64"
      ]
     },
     "execution_count": 12,
     "metadata": {},
     "output_type": "execute_result"
    }
   ],
   "source": [
    "#color count\n",
    "df.color.value_counts()"
   ]
  },
  {
   "cell_type": "code",
   "execution_count": 14,
   "metadata": {},
   "outputs": [],
   "source": [
    "# grouping all similar colors under same umbrella\n",
    "df['color']=df['color'].replace('color:','no_color')\n",
    "df['color']=df['color'].replace(['light blue','morningsky blue','dark blue','kona blue metallic','lightning blue',\n",
    "                                'jazz blue pearlcoat',],'blue')\n",
    "df['color']=df['color'].replace(['ruby red','toreador red','burgundy','royal crimson metallic tinted clearcoat',\n",
    "                                'ruby red metallic tinted clearcoat','maroon','cayenne red'],'red')\n",
    "df['color']=df['color'].replace(['phantom black','tuxedo black metallic', 'shadow black','super black',\n",
    "                                'black clearcoat'] ,'black')\n",
    "df['color']=df['color'].replace(['ingot silver','ingot silver metallic','billet silver metallic clearcoat'],'silver')\n",
    "df['color']=df['color'].replace(['glacier white','pearl white','white platinum tri-coat metallic','oxford white',\n",
    "                                 'bright white clearcoat','off-white'],'white')\n",
    "df['color']=df['color'].replace(['competition orange'],'orange')\n",
    "df['color']=df['color'].replace(['triple yellow tri-coat'],'yellow')\n",
    "df['color']=df['color'].replace(['tan'],'brown')\n",
    "df['color']=df['color'].replace(['magnetic metallic','guard'],'gray')"
   ]
  },
  {
   "cell_type": "code",
   "execution_count": 35,
   "metadata": {},
   "outputs": [
    {
     "data": {
      "text/plain": [
       "Index(['white', 'black', 'gray', 'silver', 'red', 'blue', 'no_color', 'orange',\n",
       "       'charcoal', 'green'],\n",
       "      dtype='object')"
      ]
     },
     "execution_count": 35,
     "metadata": {},
     "output_type": "execute_result"
    }
   ],
   "source": [
    "#top 10 colors\n",
    "df.color.value_counts().head(10).index"
   ]
  },
  {
   "cell_type": "code",
   "execution_count": 36,
   "metadata": {},
   "outputs": [
    {
     "data": {
      "text/plain": [
       "<matplotlib.axes._subplots.AxesSubplot at 0x1a1f67de90>"
      ]
     },
     "execution_count": 36,
     "metadata": {},
     "output_type": "execute_result"
    },
    {
     "data": {
      "image/png": "[encoded data removed]",
      "text/plain": [
       "<Figure size 576x504 with 1 Axes>"
      ]
     },
     "metadata": {},
     "output_type": "display_data"
    }
   ],
   "source": [
    "#pie graph of top colors\n",
    "df.color.value_counts().head(6).plot(kind='pie', colors=df.color.value_counts().head(6).index, figsize=(8,7), \n",
    "                    wedgeprops={\"edgecolor\":\"0\",'linewidth': 1,\n",
    "                    'linestyle': 'solid', 'antialiased': True})"
   ]
  },
  {
   "cell_type": "code",
   "execution_count": 37,
   "metadata": {},
   "outputs": [
    {
     "data": {
      "text/plain": [
       "<matplotlib.axes._subplots.AxesSubplot at 0x1a1f73b250>"
      ]
     },
     "execution_count": 37,
     "metadata": {},
     "output_type": "execute_result"
    },
    {
     "data": {
      "image/png": "[encoded data removed]",
      "text/plain": [
       "<Figure size 576x360 with 2 Axes>"
      ]
     },
     "metadata": {
      "needs_background": "light"
     },
     "output_type": "display_data"
    }
   ],
   "source": [
    "#heatmap\n",
    "plt.subplots(figsize =(8,5))\n",
    "sns.heatmap(df.corr())"
   ]
  },
  {
   "cell_type": "code",
   "execution_count": 38,
   "metadata": {},
   "outputs": [
    {
     "data": {
      "image/png": "[encoded data removed]",
      "text/plain": [
       "<Figure size 720x288 with 1 Axes>"
      ]
     },
     "metadata": {
      "needs_background": "light"
     },
     "output_type": "display_data"
    }
   ],
   "source": [
    "#correlation with price\n",
    "corr_with_price = df.corr()[\"price\"].sort_values(ascending=False)\n",
    "plt.figure(figsize=(10,4))\n",
    "corr_with_price.drop(\"price\").plot.bar()\n",
    "plt.show();"
   ]
  },
  {
   "cell_type": "code",
   "execution_count": 39,
   "metadata": {},
   "outputs": [
    {
     "data": {
      "image/png": "[encoded data removed]",
      "text/plain": [
       "<Figure size 432x288 with 1 Axes>"
      ]
     },
     "metadata": {
      "needs_background": "light"
     },
     "output_type": "display_data"
    }
   ],
   "source": [
    "#plot year with price\n",
    "plt.scatter(df.year, df.price, c = \"teal\", marker = \"s\")\n",
    "plt.title(\"Year vs Price\")\n",
    "plt.xlabel(\"Year\")\n",
    "plt.ylabel(\"Price\")\n",
    "plt.show()"
   ]
  },
  {
   "cell_type": "code",
   "execution_count": 40,
   "metadata": {},
   "outputs": [
    {
     "data": {
      "image/png": "[encoded data removed]",
      "text/plain": [
       "<Figure size 432x288 with 1 Axes>"
      ]
     },
     "metadata": {
      "needs_background": "light"
     },
     "output_type": "display_data"
    }
   ],
   "source": [
    "#plotting mileage with price\n",
    "plt.scatter(df.mileage, df.price, c = \"pink\", marker = \"s\")\n",
    "plt.title(\"Mileage vs Price\")\n",
    "plt.xlabel(\"Mileage\")\n",
    "plt.ylabel(\"Price\")\n",
    "plt.show()"
   ]
  },
  {
   "cell_type": "code",
   "execution_count": 41,
   "metadata": {},
   "outputs": [
    {
     "name": "stdout",
     "output_type": "stream",
     "text": [
      "<class 'pandas.core.frame.DataFrame'>\n",
      "Int64Index: 2456 entries, 0 to 2498\n",
      "Data columns (total 8 columns):\n",
      " #   Column        Non-Null Count  Dtype  \n",
      "---  ------        --------------  -----  \n",
      " 0   price         2456 non-null   int64  \n",
      " 1   brand         2456 non-null   object \n",
      " 2   model         2456 non-null   object \n",
      " 3   year          2456 non-null   int64  \n",
      " 4   title_status  2456 non-null   object \n",
      " 5   mileage       2456 non-null   float64\n",
      " 6   color         2456 non-null   object \n",
      " 7   state         2456 non-null   object \n",
      "dtypes: float64(1), int64(2), object(5)\n",
      "memory usage: 172.7+ KB\n"
     ]
    }
   ],
   "source": [
    "df.info()"
   ]
  },
  {
   "cell_type": "code",
   "execution_count": 42,
   "metadata": {},
   "outputs": [],
   "source": [
    "#convert to dummy variables\n",
    "\n",
    "dummy_brand = pd.get_dummies(df['brand'])\n",
    "df=pd.concat([df,dummy_brand],axis=1)\n",
    "df.drop(['brand'],axis=1,inplace=True)\n",
    "\n",
    "model_dummy = pd.get_dummies(df['model'])\n",
    "df=pd.concat([df,model_dummy],axis=1)\n",
    "df.drop(['model'],axis=1,inplace=True)\n",
    "\n",
    "title_dummy = pd.get_dummies(df['title_status'])\n",
    "df=pd.concat([df,title_dummy],axis=1)\n",
    "df.drop(['title_status'],axis=1,inplace=True)\n",
    "\n",
    "color_dummy = pd.get_dummies(df['color'])\n",
    "df=pd.concat([df,color_dummy],axis=1)\n",
    "df.drop(['color'],axis=1,inplace=True)\n",
    "\n",
    "state_dummy = pd.get_dummies(df['state'])\n",
    "df=pd.concat([df,state_dummy],axis=1)\n",
    "df.drop(['state'],axis=1,inplace=True)"
   ]
  },
  {
   "cell_type": "code",
   "execution_count": 43,
   "metadata": {},
   "outputs": [
    {
     "name": "stdout",
     "output_type": "stream",
     "text": [
      "<class 'pandas.core.frame.DataFrame'>\n",
      "Int64Index: 2456 entries, 0 to 2498\n",
      "Columns: 218 entries, price to wisconsin\n",
      "dtypes: float64(1), int64(2), uint8(215)\n",
      "memory usage: 592.4 KB\n"
     ]
    }
   ],
   "source": [
    "#make sure all columns have number datatype\n",
    "df.info()"
   ]
  },
  {
   "cell_type": "code",
   "execution_count": 44,
   "metadata": {
    "scrolled": true
   },
   "outputs": [
    {
     "data": {
      "text/plain": [
       "['price',\n",
       " 'year',\n",
       " 'mileage',\n",
       " 'acura',\n",
       " 'audi',\n",
       " 'bmw',\n",
       " 'buick',\n",
       " 'cadillac',\n",
       " 'chevrolet',\n",
       " 'chrysler',\n",
       " 'dodge',\n",
       " 'ford',\n",
       " 'gmc',\n",
       " 'harley-davidson',\n",
       " 'heartland',\n",
       " 'honda',\n",
       " 'hyundai',\n",
       " 'infiniti',\n",
       " 'jaguar',\n",
       " 'jeep',\n",
       " 'kia',\n",
       " 'land',\n",
       " 'lexus',\n",
       " 'lincoln',\n",
       " 'maserati',\n",
       " 'mazda',\n",
       " 'mercedes-benz',\n",
       " 'nissan',\n",
       " 'peterbilt',\n",
       " 'ram',\n",
       " 'toyota',\n",
       " '1500',\n",
       " '2500',\n",
       " '2500hd',\n",
       " '300',\n",
       " '3500',\n",
       " '5',\n",
       " 'acadia',\n",
       " 'altima',\n",
       " 'armada',\n",
       " 'bus',\n",
       " 'cab',\n",
       " 'camaro',\n",
       " 'caravan',\n",
       " 'cargo',\n",
       " 'challenger',\n",
       " 'charger',\n",
       " 'chassis',\n",
       " 'cherokee',\n",
       " 'colorado',\n",
       " 'compass',\n",
       " 'connect',\n",
       " 'convertible',\n",
       " 'corvette',\n",
       " 'country',\n",
       " 'coupe',\n",
       " 'cruiser',\n",
       " 'cruze',\n",
       " 'cutaway',\n",
       " 'cx-3',\n",
       " 'd',\n",
       " 'dart',\n",
       " 'discovery',\n",
       " 'door',\n",
       " 'doors',\n",
       " 'dr',\n",
       " 'drw',\n",
       " 'durango',\n",
       " 'e-class',\n",
       " 'ecosport',\n",
       " 'edge',\n",
       " 'el',\n",
       " 'elantra',\n",
       " 'enclave',\n",
       " 'encore',\n",
       " 'energi',\n",
       " 'equinox',\n",
       " 'escape',\n",
       " 'esv',\n",
       " 'expedition',\n",
       " 'explorer',\n",
       " 'f-150',\n",
       " 'f-650',\n",
       " 'f-750',\n",
       " 'fiesta',\n",
       " 'flex',\n",
       " 'focus',\n",
       " 'forte',\n",
       " 'frontier',\n",
       " 'fusion',\n",
       " 'ghibli',\n",
       " 'glc',\n",
       " 'gle',\n",
       " 'gx',\n",
       " 'hybrid',\n",
       " 'impala',\n",
       " 'journey',\n",
       " 'juke',\n",
       " 'kicks',\n",
       " 'ld',\n",
       " 'limited',\n",
       " 'm',\n",
       " 'malibu',\n",
       " 'max',\n",
       " 'maxima',\n",
       " 'mdx',\n",
       " 'mpv',\n",
       " 'murano',\n",
       " 'mustang',\n",
       " 'nautilus',\n",
       " 'note',\n",
       " 'nvp',\n",
       " 'pacifica',\n",
       " 'passenger',\n",
       " 'pathfinder',\n",
       " 'pickup',\n",
       " 'pioneer',\n",
       " 'pk',\n",
       " 'q5',\n",
       " 'q70',\n",
       " 'ranger',\n",
       " 'road/street',\n",
       " 'rogue',\n",
       " 'se',\n",
       " 'sedan',\n",
       " 'sentra',\n",
       " 'series',\n",
       " 'sl-class',\n",
       " 'sonic',\n",
       " 'sorento',\n",
       " 'soul',\n",
       " 'spark',\n",
       " 'sport',\n",
       " 'sportage',\n",
       " 'srw',\n",
       " 'srx',\n",
       " 'suburban',\n",
       " 'suv',\n",
       " 'tahoe',\n",
       " 'taurus',\n",
       " 'titan',\n",
       " 'trail',\n",
       " 'transit',\n",
       " 'traverse',\n",
       " 'trax',\n",
       " 'truck',\n",
       " 'utility',\n",
       " 'van',\n",
       " 'vans',\n",
       " 'vehicl',\n",
       " 'versa',\n",
       " 'volt',\n",
       " 'wagon',\n",
       " 'x3',\n",
       " 'xd',\n",
       " 'xt5',\n",
       " 'xterra',\n",
       " 'clean vehicle',\n",
       " 'salvage insurance',\n",
       " 'beige',\n",
       " 'black',\n",
       " 'blue',\n",
       " 'brown',\n",
       " 'charcoal',\n",
       " 'gold',\n",
       " 'gray',\n",
       " 'green',\n",
       " 'no_color',\n",
       " 'orange',\n",
       " 'purple',\n",
       " 'red',\n",
       " 'silver',\n",
       " 'turquoise',\n",
       " 'white',\n",
       " 'yellow',\n",
       " 'alabama',\n",
       " 'arizona',\n",
       " 'arkansas',\n",
       " 'california',\n",
       " 'colorado',\n",
       " 'connecticut',\n",
       " 'florida',\n",
       " 'georgia',\n",
       " 'idaho',\n",
       " 'illinois',\n",
       " 'indiana',\n",
       " 'kansas',\n",
       " 'kentucky',\n",
       " 'louisiana',\n",
       " 'maryland',\n",
       " 'massachusetts',\n",
       " 'michigan',\n",
       " 'minnesota',\n",
       " 'mississippi',\n",
       " 'missouri',\n",
       " 'montana',\n",
       " 'nebraska',\n",
       " 'nevada',\n",
       " 'new hampshire',\n",
       " 'new jersey',\n",
       " 'new mexico',\n",
       " 'new york',\n",
       " 'north carolina',\n",
       " 'ohio',\n",
       " 'oklahoma',\n",
       " 'ontario',\n",
       " 'oregon',\n",
       " 'pennsylvania',\n",
       " 'rhode island',\n",
       " 'south carolina',\n",
       " 'tennessee',\n",
       " 'texas',\n",
       " 'utah',\n",
       " 'vermont',\n",
       " 'virginia',\n",
       " 'washington',\n",
       " 'west virginia',\n",
       " 'wisconsin']"
      ]
     },
     "execution_count": 44,
     "metadata": {},
     "output_type": "execute_result"
    }
   ],
   "source": [
    "#all features\n",
    "list(df.columns)"
   ]
  },
  {
   "cell_type": "code",
   "execution_count": 45,
   "metadata": {},
   "outputs": [
    {
     "data": {
      "image/png": "[encoded data removed]",
      "text/plain": [
       "<Figure size 1440x288 with 1 Axes>"
      ]
     },
     "metadata": {
      "needs_background": "light"
     },
     "output_type": "display_data"
    }
   ],
   "source": [
    "#correlation of features with price\n",
    "corr_with_price = df.corr()[\"price\"].sort_values(ascending=False).head(50)\n",
    "plt.figure(figsize=(20,4))\n",
    "corr_with_price.drop(\"price\").plot.bar()\n",
    "plt.show();"
   ]
  },
  {
   "cell_type": "code",
   "execution_count": 46,
   "metadata": {},
   "outputs": [],
   "source": [
    "#import more libraries\n",
    "from sklearn.metrics import classification_report, confusion_matrix, accuracy_score, f1_score, roc_auc_score\n",
    "from sklearn.model_selection import cross_val_score, train_test_split\n",
    "from collections import OrderedDict\n",
    "from sklearn.metrics import r2_score\n",
    "from sklearn.metrics import mean_squared_error\n",
    "from sklearn.model_selection import StratifiedKFold\n",
    "skf = StratifiedKFold(n_splits=5)\n",
    "\n",
    "# machine learning\n",
    "from sklearn.tree import DecisionTreeRegressor\n",
    "from sklearn.ensemble import RandomForestRegressor\n",
    "from sklearn.neighbors import KNeighborsRegressor\n",
    "from xgboost import XGBRegressor"
   ]
  },
  {
   "cell_type": "code",
   "execution_count": 47,
   "metadata": {},
   "outputs": [],
   "source": [
    "#train test split\n",
    "features = df.drop('price',axis=1).values\n",
    "target = df.price.values\n",
    "X_train,X_test,y_train,y_test=train_test_split(features,target,test_size=0.20,shuffle=True)"
   ]
  },
  {
   "cell_type": "markdown",
   "metadata": {},
   "source": [
    "### K-Fold Cross Validation"
   ]
  },
  {
   "cell_type": "code",
   "execution_count": 72,
   "metadata": {},
   "outputs": [
    {
     "name": "stdout",
     "output_type": "stream",
     "text": [
      "Decision Tree: [-0.03558368  0.11096475  0.38872799  0.28177259  0.09819953]\n",
      "Random Forest: [0.23338318 0.46946756 0.59096208 0.51257523 0.43779105]\n",
      "KNN: [ 0.01745793  0.02315385  0.08029813  0.00958238 -0.16269578]\n",
      "XGBoost: [0.2943619  0.45880742 0.58795331 0.5373838  0.62841883]\n"
     ]
    }
   ],
   "source": [
    "# Decision Tree model performance using cross_val_score\n",
    "dtree = DecisionTreeRegressor()\n",
    "print('Decision Tree:',cross_val_score(dtree, features, target))\n",
    "\n",
    "# Random Forest performance using cross_val_score\n",
    "rforest= RandomForestRegressor()\n",
    "print('Random Forest:',cross_val_score(rforest,features, target))\n",
    "\n",
    "# KNN using cross_val_score\n",
    "knn= KNeighborsRegressor()\n",
    "print('KNN:',cross_val_score(knn, features, target))\n",
    "\n",
    "# XGBRegressor using cross_val_score\n",
    "xgb = XGBRegressor(objective='reg:squarederror')\n",
    "print('XGBoost:',cross_val_score(xgb, features, target))"
   ]
  },
  {
   "cell_type": "markdown",
   "metadata": {},
   "source": [
    "### XGBRegressor"
   ]
  },
  {
   "cell_type": "code",
   "execution_count": 100,
   "metadata": {},
   "outputs": [
    {
     "name": "stdout",
     "output_type": "stream",
     "text": [
      "Train r2 score: 0.6830112175585741\n",
      "Test r2 score: 0.5738250503201937\n",
      "Train RMSE: 6672.0010\n",
      "Test RMSE: 8086.1485\n"
     ]
    }
   ],
   "source": [
    "#using default params\n",
    "xgb = XGBRegressor(objective='reg:squarederror').fit(X_train, y_train, verbose=False)\n",
    "y_train_pred_xg = xgb.predict(X_train)\n",
    "y_pred_xg = xgb.predict(X_test)\n",
    "\n",
    "print (\"Train r2 score:\", r2_score(y_pred=y_train_pred_xg,y_true=y_train))\n",
    "print(\"Test r2 score:\", r2_score(y_test, y_pred_xg))\n",
    "train_mse = mean_squared_error(y_train_pred_xg, y_train)\n",
    "test_mse = mean_squared_error(y_pred_xg, y_test)\n",
    "train_rmse = np.sqrt(train_mse)\n",
    "test_rmse = np.sqrt(test_mse)\n",
    "print(\"Train RMSE: %.4f\" % train_rmse)\n",
    "print(\"Test RMSE: %.4f\" % test_rmse)"
   ]
  },
  {
   "cell_type": "code",
   "execution_count": 101,
   "metadata": {},
   "outputs": [
    {
     "name": "stdout",
     "output_type": "stream",
     "text": [
      "Train r2 score: 0.7969229331777135\n",
      "Test r2 score: 0.6589120683074337\n",
      "Train RMSE: 5340.2870\n",
      "Test RMSE: 7234.0404\n"
     ]
    }
   ],
   "source": [
    "#changing param n_estimators to improve the model\n",
    "xgb2 = XGBRegressor(objective='reg:squarederror',n_estimators=500).fit(X_train, y_train, early_stopping_rounds=5, \n",
    "             eval_set=[(X_test, y_test)], verbose=False)\n",
    "y_train_pred_xg2 = xgb2.predict(X_train)\n",
    "y_pred_xg2 = xgb2.predict(X_test)\n",
    "\n",
    "print (\"Train r2 score:\", r2_score(y_pred=y_train_pred_xg2,y_true=y_train))\n",
    "print(\"Test r2 score:\", r2_score(y_test, y_pred_xg2))\n",
    "train_mse2 = mean_squared_error(y_train_pred_xg2, y_train)\n",
    "test_mse2 = mean_squared_error(y_pred_xg2, y_test)\n",
    "train_rmse2 = np.sqrt(train_mse2)\n",
    "test_rmse2 = np.sqrt(test_mse2)\n",
    "print(\"Train RMSE: %.4f\" % train_rmse2)\n",
    "print(\"Test RMSE: %.4f\" % test_rmse2)"
   ]
  },
  {
   "cell_type": "markdown",
   "metadata": {},
   "source": [
    "### Grid Search"
   ]
  },
  {
   "cell_type": "code",
   "execution_count": 103,
   "metadata": {},
   "outputs": [],
   "source": [
    "from sklearn.model_selection import GridSearchCV"
   ]
  },
  {
   "cell_type": "code",
   "execution_count": 108,
   "metadata": {},
   "outputs": [
    {
     "name": "stdout",
     "output_type": "stream",
     "text": [
      "Fitting 5 folds for each of 9 candidates, totalling 45 fits\n"
     ]
    },
    {
     "name": "stderr",
     "output_type": "stream",
     "text": [
      "[Parallel(n_jobs=6)]: Using backend LokyBackend with 6 concurrent workers.\n",
      "[Parallel(n_jobs=6)]: Done   1 tasks      | elapsed:   21.6s\n",
      "[Parallel(n_jobs=6)]: Done   6 tasks      | elapsed:   34.4s\n",
      "[Parallel(n_jobs=6)]: Done  13 tasks      | elapsed:  1.3min\n",
      "[Parallel(n_jobs=6)]: Done  20 tasks      | elapsed:  1.7min\n",
      "[Parallel(n_jobs=6)]: Done  29 tasks      | elapsed:  2.7min\n",
      "[Parallel(n_jobs=6)]: Done  39 out of  45 | elapsed:  3.4min remaining:   31.5s\n",
      "[Parallel(n_jobs=6)]: Done  45 out of  45 | elapsed:  4.0min finished\n"
     ]
    },
    {
     "name": "stdout",
     "output_type": "stream",
     "text": [
      "best params: {'gamma': 0.0, 'max_depth': 5}\n",
      "best score: 0.7009145655299226\n"
     ]
    }
   ],
   "source": [
    "#tuning max_depth and gamma\n",
    "param_test1 = {\n",
    "    'max_depth':[3,5,7],\n",
    "    'gamma':[i/10.0 for i in range(0,3)]\n",
    "}\n",
    "\n",
    "xgb_model = XGBRegressor(objective='reg:squarederror', learning_rate =0.1, n_estimators=500, max_depth=5,\n",
    "     min_child_weight=1, gamma=0, subsample=0.8, colsample_bytree=0.8, nthread=6, scale_pos_weight=1)\n",
    "\n",
    "grid1 = GridSearchCV(estimator = xgb_model, param_grid = param_test1, n_jobs=6,iid=False, \n",
    "                     verbose=10,scoring='r2', refit=True)\n",
    "\n",
    "grid1.fit(X_train,y_train)\n",
    "print('best params:',grid1.best_params_)\n",
    "print('best score:',grid1.best_score_)"
   ]
  },
  {
   "cell_type": "code",
   "execution_count": 109,
   "metadata": {},
   "outputs": [
    {
     "name": "stdout",
     "output_type": "stream",
     "text": [
      "Fitting 5 folds for each of 12 candidates, totalling 60 fits\n"
     ]
    },
    {
     "name": "stderr",
     "output_type": "stream",
     "text": [
      "[Parallel(n_jobs=6)]: Using backend LokyBackend with 6 concurrent workers.\n",
      "[Parallel(n_jobs=6)]: Done   1 tasks      | elapsed:    2.9s\n",
      "[Parallel(n_jobs=6)]: Done   6 tasks      | elapsed:    6.2s\n",
      "[Parallel(n_jobs=6)]: Done  13 tasks      | elapsed:   41.7s\n",
      "[Parallel(n_jobs=6)]: Done  20 tasks      | elapsed:   59.0s\n",
      "[Parallel(n_jobs=6)]: Done  29 tasks      | elapsed:  1.7min\n",
      "[Parallel(n_jobs=6)]: Done  38 tasks      | elapsed:  2.4min\n",
      "[Parallel(n_jobs=6)]: Done  49 tasks      | elapsed:  3.2min\n",
      "[Parallel(n_jobs=6)]: Done  56 out of  60 | elapsed:  4.3min remaining:   18.5s\n",
      "[Parallel(n_jobs=6)]: Done  60 out of  60 | elapsed:  4.4min finished\n"
     ]
    },
    {
     "name": "stdout",
     "output_type": "stream",
     "text": [
      "best params: {'min_child_weight': 1, 'n_estimators': 500}\n",
      "best score: 0.7009145655299226\n"
     ]
    }
   ],
   "source": [
    "#tuning min_child_weight and n_estimators\n",
    "param_test2 = {\n",
    "    'min_child_weight':range(1,6,2),\n",
    "    'n_estimators':[50,100,500,1000]\n",
    "}\n",
    "\n",
    "xgb_model = XGBRegressor(objective='reg:squarederror', learning_rate =0.1, n_estimators=500, max_depth=5,\n",
    "     min_child_weight=1, gamma=0, subsample=0.8, colsample_bytree=0.8, nthread=6, scale_pos_weight=1)\n",
    "\n",
    "grid2 = GridSearchCV(estimator = xgb_model, param_grid = param_test2, n_jobs=6, iid=False, \n",
    "                     verbose=10, scoring='r2', refit=True)\n",
    "\n",
    "grid2.fit(X_train,y_train)\n",
    "print('best params:',grid2.best_params_)\n",
    "print('best score:',grid2.best_score_)"
   ]
  },
  {
   "cell_type": "code",
   "execution_count": 110,
   "metadata": {},
   "outputs": [
    {
     "name": "stdout",
     "output_type": "stream",
     "text": [
      "Fitting 5 folds for each of 9 candidates, totalling 45 fits\n"
     ]
    },
    {
     "name": "stderr",
     "output_type": "stream",
     "text": [
      "[Parallel(n_jobs=6)]: Using backend LokyBackend with 6 concurrent workers.\n",
      "[Parallel(n_jobs=6)]: Done   1 tasks      | elapsed:   24.1s\n",
      "[Parallel(n_jobs=6)]: Done   6 tasks      | elapsed:   24.4s\n",
      "[Parallel(n_jobs=6)]: Done  13 tasks      | elapsed:  1.1min\n",
      "[Parallel(n_jobs=6)]: Done  20 tasks      | elapsed:  1.6min\n",
      "[Parallel(n_jobs=6)]: Done  29 tasks      | elapsed:  2.1min\n",
      "[Parallel(n_jobs=6)]: Done  39 out of  45 | elapsed:  3.3min remaining:   30.4s\n",
      "[Parallel(n_jobs=6)]: Done  45 out of  45 | elapsed:  3.6min finished\n"
     ]
    },
    {
     "name": "stdout",
     "output_type": "stream",
     "text": [
      "best params: {'colsample_bytree': 0.4, 'learning_rate': 0.1}\n",
      "best score: 0.706849746084233\n"
     ]
    }
   ],
   "source": [
    "#tuning learning_rate and colsample_bytree\n",
    "param_test3 = {\n",
    "    'learning_rate':[0.1,0.05, 0.01],\n",
    "    'colsample_bytree':[0.4,0.6,0.8]\n",
    "}\n",
    "\n",
    "xgb_model = XGBRegressor(objective='reg:squarederror', learning_rate =0.1, n_estimators=500, max_depth=5,\n",
    "     min_child_weight=1, gamma=0, subsample=0.8, colsample_bytree=0.8, nthread=6, scale_pos_weight=1)\n",
    "\n",
    "grid3 = GridSearchCV(estimator = xgb_model, param_grid = param_test3, n_jobs=6, iid=False, \n",
    "                     verbose=10, scoring='r2', refit=True)\n",
    "\n",
    "grid3.fit(X_train,y_train)\n",
    "print('best params:',grid3.best_params_)\n",
    "print('best score:',grid3.best_score_)"
   ]
  },
  {
   "cell_type": "code",
   "execution_count": 111,
   "metadata": {},
   "outputs": [
    {
     "name": "stdout",
     "output_type": "stream",
     "text": [
      "Fitting 5 folds for each of 18 candidates, totalling 90 fits\n"
     ]
    },
    {
     "name": "stderr",
     "output_type": "stream",
     "text": [
      "[Parallel(n_jobs=6)]: Using backend LokyBackend with 6 concurrent workers.\n",
      "[Parallel(n_jobs=6)]: Done   1 tasks      | elapsed:   30.3s\n",
      "[Parallel(n_jobs=6)]: Done   6 tasks      | elapsed:   30.8s\n",
      "[Parallel(n_jobs=6)]: Done  13 tasks      | elapsed:  1.5min\n",
      "[Parallel(n_jobs=6)]: Done  20 tasks      | elapsed:  2.0min\n",
      "[Parallel(n_jobs=6)]: Done  29 tasks      | elapsed:  2.6min\n",
      "[Parallel(n_jobs=6)]: Done  38 tasks      | elapsed:  3.6min\n",
      "[Parallel(n_jobs=6)]: Done  49 tasks      | elapsed:  4.6min\n",
      "[Parallel(n_jobs=6)]: Done  60 tasks      | elapsed:  5.3min\n",
      "[Parallel(n_jobs=6)]: Done  73 tasks      | elapsed:  7.2min\n",
      "[Parallel(n_jobs=6)]: Done  90 out of  90 | elapsed:  8.3min finished\n"
     ]
    },
    {
     "name": "stdout",
     "output_type": "stream",
     "text": [
      "best params: {'reg_alpha': 1e-05, 'reg_lambda': 0.01, 'subsample': 0.95}\n",
      "best score: 0.7110829287354496\n"
     ]
    }
   ],
   "source": [
    "#tuning reg_alpha, reg_lambda and subsample\n",
    "param_test4 = {\n",
    "    'reg_alpha':[1e-5, 1e-2,  0.75],\n",
    "    'reg_lambda':[1e-5, 1e-2, 0.45],\n",
    "    'subsample':[0.6,0.95]\n",
    "}\n",
    "\n",
    "xgb_model = XGBRegressor(objective='reg:squarederror',learning_rate =0.1, n_estimators=500, max_depth=5,\n",
    "     min_child_weight=1, gamma=0, subsample=0.8, colsample_bytree=0.8, nthread=6, scale_pos_weight=1)\n",
    "\n",
    "grid4 = GridSearchCV(estimator = xgb_model, param_grid = param_test4, n_jobs=6, iid=False, \n",
    "                     verbose=10, scoring='r2', refit=True)\n",
    "\n",
    "grid4.fit(X_train,y_train)\n",
    "print('best params:',grid4.best_params_)\n",
    "print('best score:',grid4.best_score_)"
   ]
  },
  {
   "cell_type": "code",
   "execution_count": 52,
   "metadata": {},
   "outputs": [
    {
     "name": "stdout",
     "output_type": "stream",
     "text": [
      "Train r2 score: 0.8539675204160591\n",
      "Test r2 score: 0.7620688240420777\n",
      "Train RMSE: 4596.5416\n",
      "Test RMSE: 5693.2689\n"
     ]
    }
   ],
   "source": [
    "#using all the best params\n",
    "xgb3 = XGBRegressor(objective='reg:squarederror',learning_rate=0.1, n_estimators=500, max_depth=5,\n",
    "        min_child_weight=1, gamma=0, subsample=0.6, colsample_bytree=0.4, \n",
    "        reg_alpha=1e-05, reg_lambda=0.01).fit(X_train, y_train, early_stopping_rounds=5, \n",
    "             eval_set=[(X_test, y_test)], verbose=False)\n",
    "y_train_pred_xg3 = xgb3.predict(X_train)\n",
    "y_pred_xg3 = xgb3.predict(X_test)\n",
    "\n",
    "print (\"Train r2 score:\", r2_score(y_pred=y_train_pred_xg3,y_true=y_train))\n",
    "print(\"Test r2 score:\", r2_score(y_test, y_pred_xg3))\n",
    "train_mse3 = mean_squared_error(y_train_pred_xg3, y_train)\n",
    "test_mse3 = mean_squared_error(y_pred_xg3, y_test)\n",
    "train_rmse3 = np.sqrt(train_mse3)\n",
    "test_rmse3 = np.sqrt(test_mse3)\n",
    "print(\"Train RMSE: %.4f\" % train_rmse3)\n",
    "print(\"Test RMSE: %.4f\" % test_rmse3)"
   ]
  },
  {
   "cell_type": "code",
   "execution_count": 61,
   "metadata": {},
   "outputs": [
    {
     "name": "stdout",
     "output_type": "stream",
     "text": [
      "   true value  predicted value\n",
      "0       15000     19424.302734\n",
      "1       26000     24175.421875\n",
      "2       15500      9196.180664\n",
      "3       25700     23639.138672\n",
      "4       23700     24254.351562\n"
     ]
    }
   ],
   "source": [
    "#predict car prices\n",
    "prediction = xgb3.predict(X_test)\n",
    "test=pd.DataFrame({\"true value\":(y_test),\"predicted value\":(prediction)})\n",
    "print(test.head(5))"
   ]
  }
 ],
 "metadata": {
  "kernelspec": {
   "display_name": "Python 3",
   "language": "python",
   "name": "python3"
  },
  "language_info": {
   "codemirror_mode": {
    "name": "ipython",
    "version": 3
   },
   "file_extension": ".py",
   "mimetype": "text/x-python",
   "name": "python",
   "nbconvert_exporter": "python",
   "pygments_lexer": "ipython3",
   "version": "3.7.6"
  }
 },
 "nbformat": 4,
 "nbformat_minor": 4
}
