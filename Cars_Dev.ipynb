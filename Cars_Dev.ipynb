{
 "cells": [
  {
   "cell_type": "code",
   "execution_count": 83,
   "metadata": {},
   "outputs": [],
   "source": [
    "#import libraries\n",
    "import pandas as pd \n",
    "import numpy as np \n",
    "import seaborn as sns\n",
    "import matplotlib.pyplot as plt\n",
    "from scipy.stats import norm, skew\n",
    "sns.set()"
   ]
  },
  {
   "cell_type": "code",
   "execution_count": 84,
   "metadata": {},
   "outputs": [],
   "source": [
    "#load dataset\n",
    "df = pd.read_csv(\"USA_cars_datasets.csv\")"
   ]
  },
  {
   "cell_type": "code",
   "execution_count": 3,
   "metadata": {},
   "outputs": [
    {
     "data": {
      "text/html": [
       "<div>\n",
       "<style scoped>\n",
       "    .dataframe tbody tr th:only-of-type {\n",
       "        vertical-align: middle;\n",
       "    }\n",
       "\n",
       "    .dataframe tbody tr th {\n",
       "        vertical-align: top;\n",
       "    }\n",
       "\n",
       "    .dataframe thead th {\n",
       "        text-align: right;\n",
       "    }\n",
       "</style>\n",
       "<table border=\"1\" class=\"dataframe\">\n",
       "  <thead>\n",
       "    <tr style=\"text-align: right;\">\n",
       "      <th></th>\n",
       "      <th>Unnamed: 0</th>\n",
       "      <th>price</th>\n",
       "      <th>brand</th>\n",
       "      <th>model</th>\n",
       "      <th>year</th>\n",
       "      <th>title_status</th>\n",
       "      <th>mileage</th>\n",
       "      <th>color</th>\n",
       "      <th>vin</th>\n",
       "      <th>lot</th>\n",
       "      <th>state</th>\n",
       "      <th>country</th>\n",
       "      <th>condition</th>\n",
       "    </tr>\n",
       "  </thead>\n",
       "  <tbody>\n",
       "    <tr>\n",
       "      <th>0</th>\n",
       "      <td>0</td>\n",
       "      <td>6300</td>\n",
       "      <td>toyota</td>\n",
       "      <td>cruiser</td>\n",
       "      <td>2008</td>\n",
       "      <td>clean vehicle</td>\n",
       "      <td>274117.0</td>\n",
       "      <td>black</td>\n",
       "      <td>jtezu11f88k007763</td>\n",
       "      <td>159348797</td>\n",
       "      <td>new jersey</td>\n",
       "      <td>usa</td>\n",
       "      <td>10 days left</td>\n",
       "    </tr>\n",
       "    <tr>\n",
       "      <th>1</th>\n",
       "      <td>1</td>\n",
       "      <td>2899</td>\n",
       "      <td>ford</td>\n",
       "      <td>se</td>\n",
       "      <td>2011</td>\n",
       "      <td>clean vehicle</td>\n",
       "      <td>190552.0</td>\n",
       "      <td>silver</td>\n",
       "      <td>2fmdk3gc4bbb02217</td>\n",
       "      <td>166951262</td>\n",
       "      <td>tennessee</td>\n",
       "      <td>usa</td>\n",
       "      <td>6 days left</td>\n",
       "    </tr>\n",
       "    <tr>\n",
       "      <th>2</th>\n",
       "      <td>2</td>\n",
       "      <td>5350</td>\n",
       "      <td>dodge</td>\n",
       "      <td>mpv</td>\n",
       "      <td>2018</td>\n",
       "      <td>clean vehicle</td>\n",
       "      <td>39590.0</td>\n",
       "      <td>silver</td>\n",
       "      <td>3c4pdcgg5jt346413</td>\n",
       "      <td>167655728</td>\n",
       "      <td>georgia</td>\n",
       "      <td>usa</td>\n",
       "      <td>2 days left</td>\n",
       "    </tr>\n",
       "    <tr>\n",
       "      <th>3</th>\n",
       "      <td>3</td>\n",
       "      <td>25000</td>\n",
       "      <td>ford</td>\n",
       "      <td>door</td>\n",
       "      <td>2014</td>\n",
       "      <td>clean vehicle</td>\n",
       "      <td>64146.0</td>\n",
       "      <td>blue</td>\n",
       "      <td>1ftfw1et4efc23745</td>\n",
       "      <td>167753855</td>\n",
       "      <td>virginia</td>\n",
       "      <td>usa</td>\n",
       "      <td>22 hours left</td>\n",
       "    </tr>\n",
       "    <tr>\n",
       "      <th>4</th>\n",
       "      <td>4</td>\n",
       "      <td>27700</td>\n",
       "      <td>chevrolet</td>\n",
       "      <td>1500</td>\n",
       "      <td>2018</td>\n",
       "      <td>clean vehicle</td>\n",
       "      <td>6654.0</td>\n",
       "      <td>red</td>\n",
       "      <td>3gcpcrec2jg473991</td>\n",
       "      <td>167763266</td>\n",
       "      <td>florida</td>\n",
       "      <td>usa</td>\n",
       "      <td>22 hours left</td>\n",
       "    </tr>\n",
       "  </tbody>\n",
       "</table>\n",
       "</div>"
      ],
      "text/plain": [
       "   Unnamed: 0  price      brand    model  year   title_status   mileage  \\\n",
       "0           0   6300     toyota  cruiser  2008  clean vehicle  274117.0   \n",
       "1           1   2899       ford       se  2011  clean vehicle  190552.0   \n",
       "2           2   5350      dodge      mpv  2018  clean vehicle   39590.0   \n",
       "3           3  25000       ford     door  2014  clean vehicle   64146.0   \n",
       "4           4  27700  chevrolet     1500  2018  clean vehicle    6654.0   \n",
       "\n",
       "    color                  vin        lot       state country      condition  \n",
       "0   black    jtezu11f88k007763  159348797  new jersey     usa   10 days left  \n",
       "1  silver    2fmdk3gc4bbb02217  166951262   tennessee     usa    6 days left  \n",
       "2  silver    3c4pdcgg5jt346413  167655728     georgia     usa    2 days left  \n",
       "3    blue    1ftfw1et4efc23745  167753855    virginia     usa  22 hours left  \n",
       "4     red    3gcpcrec2jg473991  167763266     florida     usa  22 hours left  "
      ]
     },
     "execution_count": 3,
     "metadata": {},
     "output_type": "execute_result"
    }
   ],
   "source": [
    "df.head()"
   ]
  },
  {
   "cell_type": "code",
   "execution_count": 85,
   "metadata": {},
   "outputs": [],
   "source": [
    "# drop ID columns\n",
    "drop_cols = ['Unnamed: 0', 'vin','lot','condition','country']\n",
    "\n",
    "df=df.drop(drop_cols, axis=1)"
   ]
  },
  {
   "cell_type": "code",
   "execution_count": 5,
   "metadata": {},
   "outputs": [
    {
     "data": {
      "text/html": [
       "<div>\n",
       "<style scoped>\n",
       "    .dataframe tbody tr th:only-of-type {\n",
       "        vertical-align: middle;\n",
       "    }\n",
       "\n",
       "    .dataframe tbody tr th {\n",
       "        vertical-align: top;\n",
       "    }\n",
       "\n",
       "    .dataframe thead th {\n",
       "        text-align: right;\n",
       "    }\n",
       "</style>\n",
       "<table border=\"1\" class=\"dataframe\">\n",
       "  <thead>\n",
       "    <tr style=\"text-align: right;\">\n",
       "      <th></th>\n",
       "      <th>price</th>\n",
       "      <th>brand</th>\n",
       "      <th>model</th>\n",
       "      <th>year</th>\n",
       "      <th>title_status</th>\n",
       "      <th>mileage</th>\n",
       "      <th>color</th>\n",
       "      <th>state</th>\n",
       "    </tr>\n",
       "  </thead>\n",
       "  <tbody>\n",
       "    <tr>\n",
       "      <th>count</th>\n",
       "      <td>2499.000000</td>\n",
       "      <td>2499</td>\n",
       "      <td>2499</td>\n",
       "      <td>2499.000000</td>\n",
       "      <td>2499</td>\n",
       "      <td>2.499000e+03</td>\n",
       "      <td>2499</td>\n",
       "      <td>2499</td>\n",
       "    </tr>\n",
       "    <tr>\n",
       "      <th>unique</th>\n",
       "      <td>NaN</td>\n",
       "      <td>28</td>\n",
       "      <td>127</td>\n",
       "      <td>NaN</td>\n",
       "      <td>2</td>\n",
       "      <td>NaN</td>\n",
       "      <td>49</td>\n",
       "      <td>44</td>\n",
       "    </tr>\n",
       "    <tr>\n",
       "      <th>top</th>\n",
       "      <td>NaN</td>\n",
       "      <td>ford</td>\n",
       "      <td>door</td>\n",
       "      <td>NaN</td>\n",
       "      <td>clean vehicle</td>\n",
       "      <td>NaN</td>\n",
       "      <td>white</td>\n",
       "      <td>pennsylvania</td>\n",
       "    </tr>\n",
       "    <tr>\n",
       "      <th>freq</th>\n",
       "      <td>NaN</td>\n",
       "      <td>1235</td>\n",
       "      <td>651</td>\n",
       "      <td>NaN</td>\n",
       "      <td>2336</td>\n",
       "      <td>NaN</td>\n",
       "      <td>707</td>\n",
       "      <td>299</td>\n",
       "    </tr>\n",
       "    <tr>\n",
       "      <th>mean</th>\n",
       "      <td>18767.671469</td>\n",
       "      <td>NaN</td>\n",
       "      <td>NaN</td>\n",
       "      <td>2016.714286</td>\n",
       "      <td>NaN</td>\n",
       "      <td>5.229869e+04</td>\n",
       "      <td>NaN</td>\n",
       "      <td>NaN</td>\n",
       "    </tr>\n",
       "    <tr>\n",
       "      <th>std</th>\n",
       "      <td>12116.094936</td>\n",
       "      <td>NaN</td>\n",
       "      <td>NaN</td>\n",
       "      <td>3.442656</td>\n",
       "      <td>NaN</td>\n",
       "      <td>5.970552e+04</td>\n",
       "      <td>NaN</td>\n",
       "      <td>NaN</td>\n",
       "    </tr>\n",
       "    <tr>\n",
       "      <th>min</th>\n",
       "      <td>0.000000</td>\n",
       "      <td>NaN</td>\n",
       "      <td>NaN</td>\n",
       "      <td>1973.000000</td>\n",
       "      <td>NaN</td>\n",
       "      <td>0.000000e+00</td>\n",
       "      <td>NaN</td>\n",
       "      <td>NaN</td>\n",
       "    </tr>\n",
       "    <tr>\n",
       "      <th>25%</th>\n",
       "      <td>10200.000000</td>\n",
       "      <td>NaN</td>\n",
       "      <td>NaN</td>\n",
       "      <td>2016.000000</td>\n",
       "      <td>NaN</td>\n",
       "      <td>2.146650e+04</td>\n",
       "      <td>NaN</td>\n",
       "      <td>NaN</td>\n",
       "    </tr>\n",
       "    <tr>\n",
       "      <th>50%</th>\n",
       "      <td>16900.000000</td>\n",
       "      <td>NaN</td>\n",
       "      <td>NaN</td>\n",
       "      <td>2018.000000</td>\n",
       "      <td>NaN</td>\n",
       "      <td>3.536500e+04</td>\n",
       "      <td>NaN</td>\n",
       "      <td>NaN</td>\n",
       "    </tr>\n",
       "    <tr>\n",
       "      <th>75%</th>\n",
       "      <td>25555.500000</td>\n",
       "      <td>NaN</td>\n",
       "      <td>NaN</td>\n",
       "      <td>2019.000000</td>\n",
       "      <td>NaN</td>\n",
       "      <td>6.347250e+04</td>\n",
       "      <td>NaN</td>\n",
       "      <td>NaN</td>\n",
       "    </tr>\n",
       "    <tr>\n",
       "      <th>max</th>\n",
       "      <td>84900.000000</td>\n",
       "      <td>NaN</td>\n",
       "      <td>NaN</td>\n",
       "      <td>2020.000000</td>\n",
       "      <td>NaN</td>\n",
       "      <td>1.017936e+06</td>\n",
       "      <td>NaN</td>\n",
       "      <td>NaN</td>\n",
       "    </tr>\n",
       "  </tbody>\n",
       "</table>\n",
       "</div>"
      ],
      "text/plain": [
       "               price brand model         year   title_status       mileage  \\\n",
       "count    2499.000000  2499  2499  2499.000000           2499  2.499000e+03   \n",
       "unique           NaN    28   127          NaN              2           NaN   \n",
       "top              NaN  ford  door          NaN  clean vehicle           NaN   \n",
       "freq             NaN  1235   651          NaN           2336           NaN   \n",
       "mean    18767.671469   NaN   NaN  2016.714286            NaN  5.229869e+04   \n",
       "std     12116.094936   NaN   NaN     3.442656            NaN  5.970552e+04   \n",
       "min         0.000000   NaN   NaN  1973.000000            NaN  0.000000e+00   \n",
       "25%     10200.000000   NaN   NaN  2016.000000            NaN  2.146650e+04   \n",
       "50%     16900.000000   NaN   NaN  2018.000000            NaN  3.536500e+04   \n",
       "75%     25555.500000   NaN   NaN  2019.000000            NaN  6.347250e+04   \n",
       "max     84900.000000   NaN   NaN  2020.000000            NaN  1.017936e+06   \n",
       "\n",
       "        color         state  \n",
       "count    2499          2499  \n",
       "unique     49            44  \n",
       "top     white  pennsylvania  \n",
       "freq      707           299  \n",
       "mean      NaN           NaN  \n",
       "std       NaN           NaN  \n",
       "min       NaN           NaN  \n",
       "25%       NaN           NaN  \n",
       "50%       NaN           NaN  \n",
       "75%       NaN           NaN  \n",
       "max       NaN           NaN  "
      ]
     },
     "execution_count": 5,
     "metadata": {},
     "output_type": "execute_result"
    }
   ],
   "source": [
    "df.describe(include='all')"
   ]
  },
  {
   "cell_type": "code",
   "execution_count": 6,
   "metadata": {},
   "outputs": [
    {
     "data": {
      "text/plain": [
       "price           0\n",
       "brand           0\n",
       "model           0\n",
       "year            0\n",
       "title_status    0\n",
       "mileage         0\n",
       "color           0\n",
       "state           0\n",
       "dtype: int64"
      ]
     },
     "execution_count": 6,
     "metadata": {},
     "output_type": "execute_result"
    }
   ],
   "source": [
    "# check for null values\n",
    "df.isnull().sum()"
   ]
  },
  {
   "cell_type": "code",
   "execution_count": 7,
   "metadata": {},
   "outputs": [
    {
     "name": "stdout",
     "output_type": "stream",
     "text": [
      "brand 0\n",
      "model 0\n",
      "title_status 0\n",
      "color 0\n",
      "state 0\n"
     ]
    }
   ],
   "source": [
    "# check for \"?\" values\n",
    "for col in df.columns:\n",
    "    if df[col].dtype == object:\n",
    "         print(col,df[col][df[col] == '?'].count())"
   ]
  },
  {
   "cell_type": "code",
   "execution_count": 8,
   "metadata": {
    "scrolled": true
   },
   "outputs": [
    {
     "data": {
      "text/plain": [
       "ford               1235\n",
       "dodge               432\n",
       "nissan              312\n",
       "chevrolet           297\n",
       "gmc                  42\n",
       "jeep                 30\n",
       "chrysler             18\n",
       "bmw                  17\n",
       "hyundai              15\n",
       "buick                13\n",
       "kia                  13\n",
       "infiniti             12\n",
       "honda                12\n",
       "mercedes-benz        10\n",
       "cadillac             10\n",
       "heartland             5\n",
       "peterbilt             4\n",
       "audi                  4\n",
       "land                  4\n",
       "acura                 3\n",
       "mazda                 2\n",
       "lexus                 2\n",
       "lincoln               2\n",
       "jaguar                1\n",
       "toyota                1\n",
       "ram                   1\n",
       "maserati              1\n",
       "harley-davidson       1\n",
       "Name: brand, dtype: int64"
      ]
     },
     "execution_count": 8,
     "metadata": {},
     "output_type": "execute_result"
    }
   ],
   "source": [
    "#top brands\n",
    "df.brand.value_counts()"
   ]
  },
  {
   "cell_type": "code",
   "execution_count": 9,
   "metadata": {},
   "outputs": [
    {
     "data": {
      "image/png": "[encoded data removed]",
      "text/plain": [
       "<Figure size 864x360 with 1 Axes>"
      ]
     },
     "metadata": {},
     "output_type": "display_data"
    }
   ],
   "source": [
    "#plot count of years\n",
    "plt.figure(figsize=(12,5))\n",
    "sns.countplot(\"year\",data=df)\n",
    "plt.xticks(rotation=90)\n",
    "plt.title('Cars by Year')\n",
    "plt.show()"
   ]
  },
  {
   "cell_type": "code",
   "execution_count": 11,
   "metadata": {
    "scrolled": false
   },
   "outputs": [
    {
     "data": {
      "image/png": "[encoded data removed]",
      "text/plain": [
       "<Figure size 864x360 with 1 Axes>"
      ]
     },
     "metadata": {},
     "output_type": "display_data"
    }
   ],
   "source": [
    "#plot top sold prices\n",
    "plt.figure(figsize=(12,5))\n",
    "sns.countplot(\"price\",data=df,order=df.price.value_counts().iloc[:20].index)\n",
    "plt.xticks(rotation=90)\n",
    "plt.title('Top Sold Prices')\n",
    "plt.show()"
   ]
  },
  {
   "cell_type": "code",
   "execution_count": 17,
   "metadata": {},
   "outputs": [
    {
     "data": {
      "text/plain": [
       "16900.0"
      ]
     },
     "execution_count": 17,
     "metadata": {},
     "output_type": "execute_result"
    }
   ],
   "source": [
    "#median price\n",
    "df.price.median()"
   ]
  },
  {
   "cell_type": "code",
   "execution_count": 6,
   "metadata": {
    "scrolled": true
   },
   "outputs": [
    {
     "data": {
      "text/plain": [
       "(2499, 8)"
      ]
     },
     "execution_count": 6,
     "metadata": {},
     "output_type": "execute_result"
    }
   ],
   "source": [
    "#dimensions\n",
    "df.shape"
   ]
  },
  {
   "cell_type": "code",
   "execution_count": 13,
   "metadata": {},
   "outputs": [
    {
     "name": "stdout",
     "output_type": "stream",
     "text": [
      "Missing Price Values: 0.01720688275310124 %\n"
     ]
    }
   ],
   "source": [
    "#percent of missing price values\n",
    "print('Missing Price Values:', (df.price==0).sum()/df.shape[0], '%')"
   ]
  },
  {
   "cell_type": "code",
   "execution_count": 86,
   "metadata": {
    "scrolled": true
   },
   "outputs": [],
   "source": [
    "#drop missing prices\n",
    "df = df.drop(df[df.price == 0].index)"
   ]
  },
  {
   "cell_type": "code",
   "execution_count": 21,
   "metadata": {
    "scrolled": true
   },
   "outputs": [
    {
     "data": {
      "text/plain": [
       "(2456, 8)"
      ]
     },
     "execution_count": 21,
     "metadata": {},
     "output_type": "execute_result"
    }
   ],
   "source": [
    "#shape after deleting 43 missing prices\n",
    "df.shape"
   ]
  },
  {
   "cell_type": "code",
   "execution_count": 22,
   "metadata": {
    "scrolled": true
   },
   "outputs": [
    {
     "data": {
      "text/html": [
       "<div>\n",
       "<style scoped>\n",
       "    .dataframe tbody tr th:only-of-type {\n",
       "        vertical-align: middle;\n",
       "    }\n",
       "\n",
       "    .dataframe tbody tr th {\n",
       "        vertical-align: top;\n",
       "    }\n",
       "\n",
       "    .dataframe thead th {\n",
       "        text-align: right;\n",
       "    }\n",
       "</style>\n",
       "<table border=\"1\" class=\"dataframe\">\n",
       "  <thead>\n",
       "    <tr style=\"text-align: right;\">\n",
       "      <th></th>\n",
       "      <th>price</th>\n",
       "      <th>brand</th>\n",
       "      <th>model</th>\n",
       "      <th>year</th>\n",
       "      <th>title_status</th>\n",
       "      <th>mileage</th>\n",
       "      <th>color</th>\n",
       "      <th>state</th>\n",
       "    </tr>\n",
       "  </thead>\n",
       "  <tbody>\n",
       "    <tr>\n",
       "      <th>72</th>\n",
       "      <td>29400</td>\n",
       "      <td>bmw</td>\n",
       "      <td>x3</td>\n",
       "      <td>2017</td>\n",
       "      <td>clean vehicle</td>\n",
       "      <td>23765.0</td>\n",
       "      <td>black</td>\n",
       "      <td>tennessee</td>\n",
       "    </tr>\n",
       "    <tr>\n",
       "      <th>92</th>\n",
       "      <td>24500</td>\n",
       "      <td>bmw</td>\n",
       "      <td>door</td>\n",
       "      <td>2017</td>\n",
       "      <td>clean vehicle</td>\n",
       "      <td>17626.0</td>\n",
       "      <td>gray</td>\n",
       "      <td>michigan</td>\n",
       "    </tr>\n",
       "    <tr>\n",
       "      <th>95</th>\n",
       "      <td>53500</td>\n",
       "      <td>bmw</td>\n",
       "      <td>m</td>\n",
       "      <td>2017</td>\n",
       "      <td>clean vehicle</td>\n",
       "      <td>29355.0</td>\n",
       "      <td>blue</td>\n",
       "      <td>michigan</td>\n",
       "    </tr>\n",
       "    <tr>\n",
       "      <th>162</th>\n",
       "      <td>39000</td>\n",
       "      <td>bmw</td>\n",
       "      <td>series</td>\n",
       "      <td>2016</td>\n",
       "      <td>clean vehicle</td>\n",
       "      <td>39917.0</td>\n",
       "      <td>blue</td>\n",
       "      <td>michigan</td>\n",
       "    </tr>\n",
       "    <tr>\n",
       "      <th>165</th>\n",
       "      <td>40000</td>\n",
       "      <td>bmw</td>\n",
       "      <td>series</td>\n",
       "      <td>2016</td>\n",
       "      <td>clean vehicle</td>\n",
       "      <td>31727.0</td>\n",
       "      <td>gray</td>\n",
       "      <td>michigan</td>\n",
       "    </tr>\n",
       "    <tr>\n",
       "      <th>171</th>\n",
       "      <td>39000</td>\n",
       "      <td>bmw</td>\n",
       "      <td>series</td>\n",
       "      <td>2016</td>\n",
       "      <td>clean vehicle</td>\n",
       "      <td>33110.0</td>\n",
       "      <td>black</td>\n",
       "      <td>michigan</td>\n",
       "    </tr>\n",
       "    <tr>\n",
       "      <th>234</th>\n",
       "      <td>6200</td>\n",
       "      <td>bmw</td>\n",
       "      <td>door</td>\n",
       "      <td>2011</td>\n",
       "      <td>clean vehicle</td>\n",
       "      <td>80394.0</td>\n",
       "      <td>gray</td>\n",
       "      <td>texas</td>\n",
       "    </tr>\n",
       "    <tr>\n",
       "      <th>375</th>\n",
       "      <td>2925</td>\n",
       "      <td>bmw</td>\n",
       "      <td>door</td>\n",
       "      <td>2013</td>\n",
       "      <td>salvage insurance</td>\n",
       "      <td>46060.0</td>\n",
       "      <td>white</td>\n",
       "      <td>florida</td>\n",
       "    </tr>\n",
       "    <tr>\n",
       "      <th>399</th>\n",
       "      <td>61200</td>\n",
       "      <td>bmw</td>\n",
       "      <td>series</td>\n",
       "      <td>2020</td>\n",
       "      <td>clean vehicle</td>\n",
       "      <td>7509.0</td>\n",
       "      <td>black</td>\n",
       "      <td>california</td>\n",
       "    </tr>\n",
       "    <tr>\n",
       "      <th>401</th>\n",
       "      <td>13500</td>\n",
       "      <td>bmw</td>\n",
       "      <td>series</td>\n",
       "      <td>2014</td>\n",
       "      <td>clean vehicle</td>\n",
       "      <td>33542.0</td>\n",
       "      <td>blue</td>\n",
       "      <td>new jersey</td>\n",
       "    </tr>\n",
       "    <tr>\n",
       "      <th>411</th>\n",
       "      <td>1825</td>\n",
       "      <td>bmw</td>\n",
       "      <td>coupe</td>\n",
       "      <td>2008</td>\n",
       "      <td>salvage insurance</td>\n",
       "      <td>77984.0</td>\n",
       "      <td>white</td>\n",
       "      <td>georgia</td>\n",
       "    </tr>\n",
       "    <tr>\n",
       "      <th>412</th>\n",
       "      <td>39800</td>\n",
       "      <td>bmw</td>\n",
       "      <td>series</td>\n",
       "      <td>2017</td>\n",
       "      <td>clean vehicle</td>\n",
       "      <td>23177.0</td>\n",
       "      <td>blue</td>\n",
       "      <td>california</td>\n",
       "    </tr>\n",
       "    <tr>\n",
       "      <th>467</th>\n",
       "      <td>15000</td>\n",
       "      <td>bmw</td>\n",
       "      <td>door</td>\n",
       "      <td>2014</td>\n",
       "      <td>clean vehicle</td>\n",
       "      <td>44730.0</td>\n",
       "      <td>silver</td>\n",
       "      <td>illinois</td>\n",
       "    </tr>\n",
       "    <tr>\n",
       "      <th>597</th>\n",
       "      <td>29700</td>\n",
       "      <td>bmw</td>\n",
       "      <td>series</td>\n",
       "      <td>2016</td>\n",
       "      <td>clean vehicle</td>\n",
       "      <td>24293.0</td>\n",
       "      <td>no_color</td>\n",
       "      <td>texas</td>\n",
       "    </tr>\n",
       "    <tr>\n",
       "      <th>615</th>\n",
       "      <td>33500</td>\n",
       "      <td>bmw</td>\n",
       "      <td>series</td>\n",
       "      <td>2017</td>\n",
       "      <td>clean vehicle</td>\n",
       "      <td>22115.0</td>\n",
       "      <td>blue</td>\n",
       "      <td>wisconsin</td>\n",
       "    </tr>\n",
       "    <tr>\n",
       "      <th>627</th>\n",
       "      <td>19700</td>\n",
       "      <td>bmw</td>\n",
       "      <td>x3</td>\n",
       "      <td>2017</td>\n",
       "      <td>clean vehicle</td>\n",
       "      <td>61428.0</td>\n",
       "      <td>black</td>\n",
       "      <td>wisconsin</td>\n",
       "    </tr>\n",
       "  </tbody>\n",
       "</table>\n",
       "</div>"
      ],
      "text/plain": [
       "     price brand   model  year       title_status  mileage     color  \\\n",
       "72   29400   bmw      x3  2017      clean vehicle  23765.0     black   \n",
       "92   24500   bmw    door  2017      clean vehicle  17626.0      gray   \n",
       "95   53500   bmw       m  2017      clean vehicle  29355.0      blue   \n",
       "162  39000   bmw  series  2016      clean vehicle  39917.0      blue   \n",
       "165  40000   bmw  series  2016      clean vehicle  31727.0      gray   \n",
       "171  39000   bmw  series  2016      clean vehicle  33110.0     black   \n",
       "234   6200   bmw    door  2011      clean vehicle  80394.0      gray   \n",
       "375   2925   bmw    door  2013  salvage insurance  46060.0     white   \n",
       "399  61200   bmw  series  2020      clean vehicle   7509.0     black   \n",
       "401  13500   bmw  series  2014      clean vehicle  33542.0      blue   \n",
       "411   1825   bmw   coupe  2008  salvage insurance  77984.0     white   \n",
       "412  39800   bmw  series  2017      clean vehicle  23177.0      blue   \n",
       "467  15000   bmw    door  2014      clean vehicle  44730.0    silver   \n",
       "597  29700   bmw  series  2016      clean vehicle  24293.0  no_color   \n",
       "615  33500   bmw  series  2017      clean vehicle  22115.0      blue   \n",
       "627  19700   bmw      x3  2017      clean vehicle  61428.0     black   \n",
       "\n",
       "          state  \n",
       "72    tennessee  \n",
       "92     michigan  \n",
       "95     michigan  \n",
       "162    michigan  \n",
       "165    michigan  \n",
       "171    michigan  \n",
       "234       texas  \n",
       "375     florida  \n",
       "399  california  \n",
       "401  new jersey  \n",
       "411     georgia  \n",
       "412  california  \n",
       "467    illinois  \n",
       "597       texas  \n",
       "615   wisconsin  \n",
       "627   wisconsin  "
      ]
     },
     "execution_count": 22,
     "metadata": {},
     "output_type": "execute_result"
    }
   ],
   "source": [
    "#conditional selection of bmw cars only\n",
    "df.loc[df.brand=='bmw']"
   ]
  },
  {
   "cell_type": "code",
   "execution_count": 24,
   "metadata": {
    "scrolled": false
   },
   "outputs": [
    {
     "data": {
      "image/png": "[encoded data removed]",
      "text/plain": [
       "<Figure size 936x432 with 1 Axes>"
      ]
     },
     "metadata": {
      "needs_background": "light"
     },
     "output_type": "display_data"
    }
   ],
   "source": [
    "#histogram of price\n",
    "plt.figure(figsize=(13,6))\n",
    "sns.distplot(df['price'] , fit=norm);"
   ]
  },
  {
   "cell_type": "code",
   "execution_count": 194,
   "metadata": {
    "scrolled": true
   },
   "outputs": [
    {
     "name": "stdout",
     "output_type": "stream",
     "text": [
      "Skew of Price: 0.9608201379517298\n"
     ]
    }
   ],
   "source": [
    "print(\"Skew of Price:\", df['price'].skew())"
   ]
  },
  {
   "cell_type": "markdown",
   "metadata": {},
   "source": [
    "#### Skewed value is between 0.5 and 1 therefore moderately skewed to the right (positive). Mean > Median."
   ]
  },
  {
   "cell_type": "code",
   "execution_count": 15,
   "metadata": {
    "scrolled": true
   },
   "outputs": [
    {
     "data": {
      "image/png": "[encoded data removed]",
      "text/plain": [
       "<Figure size 864x360 with 1 Axes>"
      ]
     },
     "metadata": {},
     "output_type": "display_data"
    },
    {
     "name": "stdout",
     "output_type": "stream",
     "text": [
      "Skew of Log Transformed Price: -2.796663783111647\n"
     ]
    }
   ],
   "source": [
    "plt.figure(figsize=(12,5))\n",
    "logPrice = np.log(df['price']+1)\n",
    "plt.hist(logPrice,color='lightgreen')\n",
    "plt.show()\n",
    "print (\"Skew of Log Transformed Price:\", logPrice.skew())"
   ]
  },
  {
   "cell_type": "code",
   "execution_count": 25,
   "metadata": {},
   "outputs": [
    {
     "data": {
      "text/plain": [
       "19096.2585504886"
      ]
     },
     "execution_count": 25,
     "metadata": {},
     "output_type": "execute_result"
    }
   ],
   "source": [
    "df.price.mean()"
   ]
  },
  {
   "cell_type": "code",
   "execution_count": 16,
   "metadata": {},
   "outputs": [],
   "source": [
    "above_ave_price = df[df.price>18768]"
   ]
  },
  {
   "cell_type": "code",
   "execution_count": 17,
   "metadata": {},
   "outputs": [
    {
     "data": {
      "text/plain": [
       "<matplotlib.axes._subplots.AxesSubplot at 0x1a27603bd0>"
      ]
     },
     "execution_count": 17,
     "metadata": {},
     "output_type": "execute_result"
    },
    {
     "data": {
      "image/png": "[encoded data removed]",
      "text/plain": [
       "<Figure size 864x360 with 1 Axes>"
      ]
     },
     "metadata": {},
     "output_type": "display_data"
    }
   ],
   "source": [
    "#graph of most common above average priced car models\n",
    "plt.figure(figsize=(12,5))\n",
    "above_ave_price.model.value_counts().head(20).plot(kind='bar', color=sns.color_palette(\"Set2\"))"
   ]
  },
  {
   "cell_type": "code",
   "execution_count": 18,
   "metadata": {},
   "outputs": [],
   "source": [
    "#75th percentile price is 25555\n",
    "expensive=df[df.price>25555]"
   ]
  },
  {
   "cell_type": "code",
   "execution_count": 19,
   "metadata": {},
   "outputs": [
    {
     "data": {
      "image/png": "[encoded data removed]",
      "text/plain": [
       "<Figure size 1080x360 with 1 Axes>"
      ]
     },
     "metadata": {},
     "output_type": "display_data"
    }
   ],
   "source": [
    "#graph of most common car models in the 75th percentile\n",
    "plt.figure(figsize=(15,5))\n",
    "sns.countplot(\"model\",data=expensive)\n",
    "plt.xticks(rotation=90)\n",
    "plt.title('Car Models in the 75th Percentile')\n",
    "plt.show()"
   ]
  },
  {
   "cell_type": "code",
   "execution_count": 20,
   "metadata": {},
   "outputs": [
    {
     "data": {
      "image/png": "[encoded data removed]",
      "text/plain": [
       "<Figure size 1080x360 with 1 Axes>"
      ]
     },
     "metadata": {},
     "output_type": "display_data"
    }
   ],
   "source": [
    "# graph of most common car brands in the 75th percentile\n",
    "plt.figure(figsize=(15,5))\n",
    "sns.countplot(\"brand\",data=expensive)\n",
    "plt.xticks(rotation=90)\n",
    "plt.title('Brands in the 75th Percentile')\n",
    "plt.show()"
   ]
  },
  {
   "cell_type": "code",
   "execution_count": 31,
   "metadata": {},
   "outputs": [
    {
     "data": {
      "text/html": [
       "<div>\n",
       "<style scoped>\n",
       "    .dataframe tbody tr th:only-of-type {\n",
       "        vertical-align: middle;\n",
       "    }\n",
       "\n",
       "    .dataframe tbody tr th {\n",
       "        vertical-align: top;\n",
       "    }\n",
       "\n",
       "    .dataframe thead th {\n",
       "        text-align: right;\n",
       "    }\n",
       "</style>\n",
       "<table border=\"1\" class=\"dataframe\">\n",
       "  <thead>\n",
       "    <tr style=\"text-align: right;\">\n",
       "      <th></th>\n",
       "      <th>price</th>\n",
       "      <th>brand</th>\n",
       "      <th>model</th>\n",
       "      <th>year</th>\n",
       "      <th>title_status</th>\n",
       "      <th>mileage</th>\n",
       "      <th>color</th>\n",
       "      <th>state</th>\n",
       "    </tr>\n",
       "  </thead>\n",
       "  <tbody>\n",
       "    <tr>\n",
       "      <th>502</th>\n",
       "      <td>84900</td>\n",
       "      <td>mercedes-benz</td>\n",
       "      <td>sl-class</td>\n",
       "      <td>2017</td>\n",
       "      <td>clean vehicle</td>\n",
       "      <td>25302.0</td>\n",
       "      <td>silver</td>\n",
       "      <td>florida</td>\n",
       "    </tr>\n",
       "  </tbody>\n",
       "</table>\n",
       "</div>"
      ],
      "text/plain": [
       "     price          brand     model  year   title_status  mileage   color  \\\n",
       "502  84900  mercedes-benz  sl-class  2017  clean vehicle  25302.0  silver   \n",
       "\n",
       "       state  \n",
       "502  florida  "
      ]
     },
     "execution_count": 31,
     "metadata": {},
     "output_type": "execute_result"
    }
   ],
   "source": [
    "#most expensive car\n",
    "df.loc[df.price == df.price.max()]"
   ]
  },
  {
   "cell_type": "code",
   "execution_count": 32,
   "metadata": {},
   "outputs": [
    {
     "data": {
      "text/plain": [
       "array(['clean vehicle', 'salvage insurance'], dtype=object)"
      ]
     },
     "execution_count": 32,
     "metadata": {},
     "output_type": "execute_result"
    }
   ],
   "source": [
    "#title status values\n",
    "df.title_status.unique()"
   ]
  },
  {
   "cell_type": "code",
   "execution_count": 21,
   "metadata": {},
   "outputs": [
    {
     "data": {
      "text/plain": [
       "Text(0, 0.5, 'Count')"
      ]
     },
     "execution_count": 21,
     "metadata": {},
     "output_type": "execute_result"
    },
    {
     "data": {
      "image/png": "[encoded data removed]",
      "text/plain": [
       "<Figure size 432x288 with 1 Axes>"
      ]
     },
     "metadata": {},
     "output_type": "display_data"
    }
   ],
   "source": [
    "#plot title status count\n",
    "df.title_status.value_counts().sort_values().plot(kind='barh', color='coral')\n",
    "plt.title('Total Title Status Count')\n",
    "plt.xlabel('Title Status')\n",
    "plt.ylabel('Count')"
   ]
  },
  {
   "cell_type": "code",
   "execution_count": 22,
   "metadata": {},
   "outputs": [
    {
     "data": {
      "text/plain": [
       "<matplotlib.axes._subplots.AxesSubplot at 0x1a1ee7d3d0>"
      ]
     },
     "execution_count": 22,
     "metadata": {},
     "output_type": "execute_result"
    },
    {
     "data": {
      "image/png": "[encoded data removed]",
      "text/plain": [
       "<Figure size 720x288 with 1 Axes>"
      ]
     },
     "metadata": {},
     "output_type": "display_data"
    }
   ],
   "source": [
    "#graph of clean vehicles with average values\n",
    "df[df.title_status=='clean vehicle'].mean().plot(kind='barh',figsize=(10,4), color='pink')"
   ]
  },
  {
   "cell_type": "code",
   "execution_count": 23,
   "metadata": {},
   "outputs": [
    {
     "data": {
      "text/plain": [
       "<matplotlib.axes._subplots.AxesSubplot at 0x1a1ee9f750>"
      ]
     },
     "execution_count": 23,
     "metadata": {},
     "output_type": "execute_result"
    },
    {
     "data": {
      "image/png": "[encoded data removed]",
      "text/plain": [
       "<Figure size 720x288 with 1 Axes>"
      ]
     },
     "metadata": {},
     "output_type": "display_data"
    }
   ],
   "source": [
    "#graph of salvage insurance with average values\n",
    "df[df.title_status=='salvage insurance'].mean().plot(kind='barh',figsize=(10,4), color='lightblue')"
   ]
  },
  {
   "cell_type": "markdown",
   "metadata": {},
   "source": [
    "#### Prices are significantly lower in title_status with salvage insurance"
   ]
  },
  {
   "cell_type": "code",
   "execution_count": 87,
   "metadata": {},
   "outputs": [],
   "source": [
    "# grouping all similar colors under same umbrella\n",
    "df['color']=df['color'].replace('color:','no_color')\n",
    "df['color']=df['color'].replace(['light blue','morningsky blue','dark blue','kona blue metallic','lightning blue',\n",
    "                                'jazz blue pearlcoat'],'blue')\n",
    "df['color']=df['color'].replace(['ruby red','toreador red','burgundy','royal crimson metallic tinted clearcoat',\n",
    "                                'ruby red metallic tinted clearcoat','maroon','cayenne red'],'red')\n",
    "df['color']=df['color'].replace(['phantom black','tuxedo black metallic', 'shadow black','super black',\n",
    "                                'black clearcoat'] ,'black')\n",
    "df['color']=df['color'].replace(['ingot silver','ingot silver metallic','billet silver metallic clearcoat'],'silver')\n",
    "df['color']=df['color'].replace(['glacier white','pearl white','white platinum tri-coat metallic','oxford white',\n",
    "                                 'bright white clearcoat','off-white'],'white')\n",
    "df['color']=df['color'].replace(['competition orange'],'orange')\n",
    "df['color']=df['color'].replace(['triple yellow tri-coat'],'yellow')\n",
    "df['color']=df['color'].replace(['tan'],'brown')\n",
    "df['color']=df['color'].replace(['magnetic metallic','guard'],'gray')"
   ]
  },
  {
   "cell_type": "code",
   "execution_count": 26,
   "metadata": {
    "scrolled": false
   },
   "outputs": [
    {
     "data": {
      "image/png": "[encoded data removed]",
      "text/plain": [
       "<Figure size 864x360 with 1 Axes>"
      ]
     },
     "metadata": {},
     "output_type": "display_data"
    }
   ],
   "source": [
    "#plot color count\n",
    "plt.figure(figsize=(12,5))\n",
    "sns.countplot(\"color\",data=df)\n",
    "plt.xticks(rotation=90)\n",
    "plt.title('Colors Count')\n",
    "plt.show()"
   ]
  },
  {
   "cell_type": "code",
   "execution_count": 36,
   "metadata": {},
   "outputs": [
    {
     "data": {
      "text/plain": [
       "<matplotlib.axes._subplots.AxesSubplot at 0x1a1f67de90>"
      ]
     },
     "execution_count": 36,
     "metadata": {},
     "output_type": "execute_result"
    },
    {
     "data": {
      "image/png": "[encoded data removed]",
      "text/plain": [
       "<Figure size 576x504 with 1 Axes>"
      ]
     },
     "metadata": {},
     "output_type": "display_data"
    }
   ],
   "source": [
    "#pie graph of top colors\n",
    "df.color.value_counts().head(6).plot(kind='pie', colors=df.color.value_counts().head(6).index, figsize=(8,7), \n",
    "                    wedgeprops={\"edgecolor\":\"0\",'linewidth': 1,\n",
    "                    'linestyle': 'solid', 'antialiased': True})"
   ]
  },
  {
   "cell_type": "code",
   "execution_count": 27,
   "metadata": {},
   "outputs": [
    {
     "data": {
      "text/plain": [
       "<matplotlib.axes._subplots.AxesSubplot at 0x1a1ec79450>"
      ]
     },
     "execution_count": 27,
     "metadata": {},
     "output_type": "execute_result"
    },
    {
     "data": {
      "image/png": "[encoded data removed]",
      "text/plain": [
       "<Figure size 576x360 with 2 Axes>"
      ]
     },
     "metadata": {},
     "output_type": "display_data"
    }
   ],
   "source": [
    "#heatmap\n",
    "plt.subplots(figsize =(8,5))\n",
    "sns.heatmap(df.corr())"
   ]
  },
  {
   "cell_type": "code",
   "execution_count": 44,
   "metadata": {},
   "outputs": [
    {
     "data": {
      "image/png": "[encoded data removed]",
      "text/plain": [
       "<Figure size 360x216 with 1 Axes>"
      ]
     },
     "metadata": {},
     "output_type": "display_data"
    }
   ],
   "source": [
    "#correlation with price\n",
    "corr_with_price = df.corr()[\"price\"].sort_values(ascending=False)\n",
    "plt.figure(figsize=(5,3))\n",
    "corr_with_price.drop(\"price\").plot(kind='bar',color=sns.color_palette(\"Set2\"))\n",
    "plt.show();"
   ]
  },
  {
   "cell_type": "code",
   "execution_count": 29,
   "metadata": {},
   "outputs": [
    {
     "data": {
      "text/plain": [
       "Text(0, 0.5, 'Price')"
      ]
     },
     "execution_count": 29,
     "metadata": {},
     "output_type": "execute_result"
    },
    {
     "data": {
      "image/png": "[encoded data removed]",
      "text/plain": [
       "<Figure size 576x360 with 1 Axes>"
      ]
     },
     "metadata": {},
     "output_type": "display_data"
    }
   ],
   "source": [
    "plt.figure(figsize=(8,5))\n",
    "ax = sns.scatterplot(x=\"year\", y=\"price\", data=df, color='magenta')\n",
    "plt.title(\"Year vs Price\")\n",
    "plt.xlabel(\"Year\")\n",
    "plt.ylabel(\"Price\")"
   ]
  },
  {
   "cell_type": "code",
   "execution_count": 30,
   "metadata": {},
   "outputs": [
    {
     "data": {
      "text/plain": [
       "Text(0, 0.5, 'Price')"
      ]
     },
     "execution_count": 30,
     "metadata": {},
     "output_type": "execute_result"
    },
    {
     "data": {
      "image/png": "[encoded data removed]",
      "text/plain": [
       "<Figure size 576x360 with 1 Axes>"
      ]
     },
     "metadata": {},
     "output_type": "display_data"
    }
   ],
   "source": [
    "#plotting mileage with price\n",
    "plt.figure(figsize=(8,5))\n",
    "ax = sns.scatterplot(x=\"mileage\", y=\"price\", data=df, color=\"teal\")\n",
    "plt.title(\"Year vs Price\")\n",
    "plt.xlabel(\"Mileage\")\n",
    "plt.ylabel(\"Price\")"
   ]
  },
  {
   "cell_type": "code",
   "execution_count": 11,
   "metadata": {},
   "outputs": [
    {
     "data": {
      "text/plain": [
       "[('title_status', 2),\n",
       " ('color', 16),\n",
       " ('brand', 28),\n",
       " ('state', 44),\n",
       " ('model', 127)]"
      ]
     },
     "execution_count": 11,
     "metadata": {},
     "output_type": "execute_result"
    }
   ],
   "source": [
    "#columns with object datatype\n",
    "object_cols = [col for col in df.columns if df[col].dtype == \"object\"]\n",
    "\n",
    "#number of unique values in each column with categorical data\n",
    "object_nunique = list(map(lambda col: df[col].nunique(), object_cols))\n",
    "d = dict(zip(object_cols, object_nunique))\n",
    "\n",
    "#print number of unique entries by column\n",
    "sorted(d.items(), key=lambda x: x[1])"
   ]
  },
  {
   "cell_type": "code",
   "execution_count": 89,
   "metadata": {},
   "outputs": [],
   "source": [
    "#convert to dummy variables\n",
    "dummy_brand = pd.get_dummies(df['brand'])\n",
    "df=pd.concat([df,dummy_brand],axis=1)\n",
    "df.drop(['brand'],axis=1,inplace=True)\n",
    "\n",
    "model_dummy = pd.get_dummies(df['model'])\n",
    "df=pd.concat([df,model_dummy],axis=1)\n",
    "df.drop(['model'],axis=1,inplace=True)\n",
    "\n",
    "title_dummy = pd.get_dummies(df['title_status'])\n",
    "df=pd.concat([df,title_dummy],axis=1)\n",
    "df.drop(['title_status'],axis=1,inplace=True)\n",
    "\n",
    "color_dummy = pd.get_dummies(df['color'])\n",
    "df=pd.concat([df,color_dummy],axis=1)\n",
    "df.drop(['color'],axis=1,inplace=True)\n",
    "\n",
    "state_dummy = pd.get_dummies(df['state'])\n",
    "df=pd.concat([df,state_dummy],axis=1)\n",
    "df.drop(['state'],axis=1,inplace=True)"
   ]
  },
  {
   "cell_type": "code",
   "execution_count": 91,
   "metadata": {},
   "outputs": [
    {
     "name": "stdout",
     "output_type": "stream",
     "text": [
      "<class 'pandas.core.frame.DataFrame'>\n",
      "Int64Index: 2456 entries, 0 to 2498\n",
      "Columns: 218 entries, price to wisconsin\n",
      "dtypes: float64(1), int64(2), uint8(215)\n",
      "memory usage: 592.4 KB\n"
     ]
    }
   ],
   "source": [
    "#make sure all columns have number datatype\n",
    "df.info()"
   ]
  },
  {
   "cell_type": "code",
   "execution_count": 36,
   "metadata": {},
   "outputs": [
    {
     "data": {
      "image/png": "[encoded data removed]",
      "text/plain": [
       "<Figure size 1440x288 with 1 Axes>"
      ]
     },
     "metadata": {},
     "output_type": "display_data"
    }
   ],
   "source": [
    "#correlation of features with price\n",
    "corr_with_price = df.corr()[\"price\"].sort_values(ascending=False).head(30)\n",
    "plt.figure(figsize=(20,4))\n",
    "corr_with_price.drop(\"price\").plot(kind='bar',color=sns.color_palette(\"Set2\"))\n",
    "plt.show();"
   ]
  },
  {
   "cell_type": "code",
   "execution_count": 92,
   "metadata": {},
   "outputs": [],
   "source": [
    "#import more libraries\n",
    "from sklearn.metrics import f1_score\n",
    "from sklearn.model_selection import cross_val_score, train_test_split\n",
    "from sklearn.metrics import r2_score\n",
    "from sklearn.metrics import mean_squared_error\n",
    "\n",
    "# machine learning\n",
    "from sklearn.tree import DecisionTreeRegressor\n",
    "from sklearn.ensemble import RandomForestRegressor\n",
    "from sklearn.neighbors import KNeighborsRegressor\n",
    "from xgboost import XGBRegressor"
   ]
  },
  {
   "cell_type": "code",
   "execution_count": 93,
   "metadata": {},
   "outputs": [],
   "source": [
    "#train test split\n",
    "features = df.drop('price',axis=1).values\n",
    "target = df.price.values\n",
    "X_train,X_test,y_train,y_test=train_test_split(features,target,test_size=0.20,shuffle=True)"
   ]
  },
  {
   "cell_type": "markdown",
   "metadata": {},
   "source": [
    "### K-Fold Cross Validation"
   ]
  },
  {
   "cell_type": "code",
   "execution_count": 48,
   "metadata": {},
   "outputs": [
    {
     "name": "stdout",
     "output_type": "stream",
     "text": [
      "Decision Tree: [-0.04131628  0.06845302  0.37990646  0.28684784 -0.10667512]\n",
      "Random Forest: [0.23093429 0.47780509 0.58594095 0.52243396 0.45086108]\n",
      "KNN: [ 0.01745793  0.02315385  0.08029813  0.00958238 -0.16248449]\n",
      "XGBoost: [0.29406818 0.46063837 0.5888018  0.54617161 0.6245692 ]\n"
     ]
    }
   ],
   "source": [
    "# Decision Tree\n",
    "dtree = DecisionTreeRegressor()\n",
    "print('Decision Tree:',cross_val_score(dtree, features, target))\n",
    "\n",
    "# Random Forest\n",
    "rforest= RandomForestRegressor()\n",
    "print('Random Forest:',cross_val_score(rforest,features, target))\n",
    "\n",
    "# KNN \n",
    "knn= KNeighborsRegressor()\n",
    "print('KNN:',cross_val_score(knn, features, target))\n",
    "\n",
    "# XGB Regressor\n",
    "xgb = XGBRegressor(objective='reg:squarederror')\n",
    "print('XGBoost:',cross_val_score(xgb, features, target))"
   ]
  },
  {
   "cell_type": "markdown",
   "metadata": {},
   "source": [
    "### XGBRegressor"
   ]
  },
  {
   "cell_type": "code",
   "execution_count": 49,
   "metadata": {},
   "outputs": [
    {
     "name": "stdout",
     "output_type": "stream",
     "text": [
      "Train r2 score: 0.6955759248785325\n",
      "Test r2 score: 0.5712118119766039\n",
      "Train RMSE: 6553.3588\n",
      "Test RMSE: 8038.8668\n"
     ]
    }
   ],
   "source": [
    "#using default params\n",
    "xgb = XGBRegressor(objective='reg:squarederror').fit(X_train, y_train, verbose=False)\n",
    "y_train_pred_xg = xgb.predict(X_train)\n",
    "y_pred_xg = xgb.predict(X_test)\n",
    "\n",
    "print (\"Train r2 score:\", r2_score(y_pred=y_train_pred_xg,y_true=y_train))\n",
    "print(\"Test r2 score:\", r2_score(y_test, y_pred_xg))\n",
    "train_mse = mean_squared_error(y_train_pred_xg, y_train)\n",
    "test_mse = mean_squared_error(y_pred_xg, y_test)\n",
    "train_rmse = np.sqrt(train_mse)\n",
    "test_rmse = np.sqrt(test_mse)\n",
    "print(\"Train RMSE: %.4f\" % train_rmse)\n",
    "print(\"Test RMSE: %.4f\" % test_rmse)"
   ]
  },
  {
   "cell_type": "code",
   "execution_count": 50,
   "metadata": {},
   "outputs": [
    {
     "name": "stdout",
     "output_type": "stream",
     "text": [
      "Train r2 score: 0.7907964294087285\n",
      "Test r2 score: 0.6398210975662534\n",
      "Train RMSE: 5432.6158\n",
      "Test RMSE: 7367.7106\n"
     ]
    }
   ],
   "source": [
    "#changing param n_estimators to improve the model\n",
    "xgb2 = XGBRegressor(objective='reg:squarederror',n_estimators=500).fit(X_train, y_train, early_stopping_rounds=5, \n",
    "             eval_set=[(X_test, y_test)], verbose=False)\n",
    "y_train_pred_xg2 = xgb2.predict(X_train)\n",
    "y_pred_xg2 = xgb2.predict(X_test)\n",
    "\n",
    "print (\"Train r2 score:\", r2_score(y_pred=y_train_pred_xg2,y_true=y_train))\n",
    "print(\"Test r2 score:\", r2_score(y_test, y_pred_xg2))\n",
    "train_mse2 = mean_squared_error(y_train_pred_xg2, y_train)\n",
    "test_mse2 = mean_squared_error(y_pred_xg2, y_test)\n",
    "train_rmse2 = np.sqrt(train_mse2)\n",
    "test_rmse2 = np.sqrt(test_mse2)\n",
    "print(\"Train RMSE: %.4f\" % train_rmse2)\n",
    "print(\"Test RMSE: %.4f\" % test_rmse2)"
   ]
  },
  {
   "cell_type": "markdown",
   "metadata": {},
   "source": [
    "### Grid Search"
   ]
  },
  {
   "cell_type": "code",
   "execution_count": 94,
   "metadata": {},
   "outputs": [],
   "source": [
    "from sklearn.model_selection import GridSearchCV"
   ]
  },
  {
   "cell_type": "code",
   "execution_count": 108,
   "metadata": {},
   "outputs": [
    {
     "name": "stdout",
     "output_type": "stream",
     "text": [
      "Fitting 5 folds for each of 9 candidates, totalling 45 fits\n"
     ]
    },
    {
     "name": "stderr",
     "output_type": "stream",
     "text": [
      "[Parallel(n_jobs=6)]: Using backend LokyBackend with 6 concurrent workers.\n",
      "[Parallel(n_jobs=6)]: Done   1 tasks      | elapsed:   21.6s\n",
      "[Parallel(n_jobs=6)]: Done   6 tasks      | elapsed:   34.4s\n",
      "[Parallel(n_jobs=6)]: Done  13 tasks      | elapsed:  1.3min\n",
      "[Parallel(n_jobs=6)]: Done  20 tasks      | elapsed:  1.7min\n",
      "[Parallel(n_jobs=6)]: Done  29 tasks      | elapsed:  2.7min\n",
      "[Parallel(n_jobs=6)]: Done  39 out of  45 | elapsed:  3.4min remaining:   31.5s\n",
      "[Parallel(n_jobs=6)]: Done  45 out of  45 | elapsed:  4.0min finished\n"
     ]
    },
    {
     "name": "stdout",
     "output_type": "stream",
     "text": [
      "best params: {'gamma': 0.0, 'max_depth': 5}\n",
      "best score: 0.7009145655299226\n"
     ]
    }
   ],
   "source": [
    "#tuning max_depth and gamma\n",
    "param_test1 = {\n",
    "    'max_depth':[3,5,7],\n",
    "    'gamma':[i/10.0 for i in range(0,3)]\n",
    "}\n",
    "\n",
    "xgb_model = XGBRegressor(objective='reg:squarederror', learning_rate =0.1, n_estimators=500, max_depth=5,\n",
    "     min_child_weight=1, gamma=0, subsample=0.8, colsample_bytree=0.8, nthread=6, scale_pos_weight=1)\n",
    "\n",
    "grid1 = GridSearchCV(estimator = xgb_model, param_grid = param_test1, n_jobs=6,iid=False, \n",
    "                     verbose=10,scoring='r2', refit=True)\n",
    "\n",
    "grid1.fit(X_train,y_train)\n",
    "print('best params:',grid1.best_params_)\n",
    "print('best score:',grid1.best_score_)"
   ]
  },
  {
   "cell_type": "code",
   "execution_count": 109,
   "metadata": {},
   "outputs": [
    {
     "name": "stdout",
     "output_type": "stream",
     "text": [
      "Fitting 5 folds for each of 12 candidates, totalling 60 fits\n"
     ]
    },
    {
     "name": "stderr",
     "output_type": "stream",
     "text": [
      "[Parallel(n_jobs=6)]: Using backend LokyBackend with 6 concurrent workers.\n",
      "[Parallel(n_jobs=6)]: Done   1 tasks      | elapsed:    2.9s\n",
      "[Parallel(n_jobs=6)]: Done   6 tasks      | elapsed:    6.2s\n",
      "[Parallel(n_jobs=6)]: Done  13 tasks      | elapsed:   41.7s\n",
      "[Parallel(n_jobs=6)]: Done  20 tasks      | elapsed:   59.0s\n",
      "[Parallel(n_jobs=6)]: Done  29 tasks      | elapsed:  1.7min\n",
      "[Parallel(n_jobs=6)]: Done  38 tasks      | elapsed:  2.4min\n",
      "[Parallel(n_jobs=6)]: Done  49 tasks      | elapsed:  3.2min\n",
      "[Parallel(n_jobs=6)]: Done  56 out of  60 | elapsed:  4.3min remaining:   18.5s\n",
      "[Parallel(n_jobs=6)]: Done  60 out of  60 | elapsed:  4.4min finished\n"
     ]
    },
    {
     "name": "stdout",
     "output_type": "stream",
     "text": [
      "best params: {'min_child_weight': 1, 'n_estimators': 500}\n",
      "best score: 0.7009145655299226\n"
     ]
    }
   ],
   "source": [
    "#tuning min_child_weight and n_estimators\n",
    "param_test2 = {\n",
    "    'min_child_weight':range(1,6,2),\n",
    "    'n_estimators':[50,100,500,1000]\n",
    "}\n",
    "\n",
    "xgb_model = XGBRegressor(objective='reg:squarederror', learning_rate =0.1, n_estimators=500, max_depth=5,\n",
    "     min_child_weight=1, gamma=0, subsample=0.8, colsample_bytree=0.8, nthread=6, scale_pos_weight=1)\n",
    "\n",
    "grid2 = GridSearchCV(estimator = xgb_model, param_grid = param_test2, n_jobs=6, iid=False, \n",
    "                     verbose=10, scoring='r2', refit=True)\n",
    "\n",
    "grid2.fit(X_train,y_train)\n",
    "print('best params:',grid2.best_params_)\n",
    "print('best score:',grid2.best_score_)"
   ]
  },
  {
   "cell_type": "code",
   "execution_count": 110,
   "metadata": {},
   "outputs": [
    {
     "name": "stdout",
     "output_type": "stream",
     "text": [
      "Fitting 5 folds for each of 9 candidates, totalling 45 fits\n"
     ]
    },
    {
     "name": "stderr",
     "output_type": "stream",
     "text": [
      "[Parallel(n_jobs=6)]: Using backend LokyBackend with 6 concurrent workers.\n",
      "[Parallel(n_jobs=6)]: Done   1 tasks      | elapsed:   24.1s\n",
      "[Parallel(n_jobs=6)]: Done   6 tasks      | elapsed:   24.4s\n",
      "[Parallel(n_jobs=6)]: Done  13 tasks      | elapsed:  1.1min\n",
      "[Parallel(n_jobs=6)]: Done  20 tasks      | elapsed:  1.6min\n",
      "[Parallel(n_jobs=6)]: Done  29 tasks      | elapsed:  2.1min\n",
      "[Parallel(n_jobs=6)]: Done  39 out of  45 | elapsed:  3.3min remaining:   30.4s\n",
      "[Parallel(n_jobs=6)]: Done  45 out of  45 | elapsed:  3.6min finished\n"
     ]
    },
    {
     "name": "stdout",
     "output_type": "stream",
     "text": [
      "best params: {'colsample_bytree': 0.4, 'learning_rate': 0.1}\n",
      "best score: 0.706849746084233\n"
     ]
    }
   ],
   "source": [
    "#tuning learning_rate and colsample_bytree\n",
    "param_test3 = {\n",
    "    'learning_rate':[0.1,0.05, 0.01],\n",
    "    'colsample_bytree':[0.4,0.6,0.8]\n",
    "}\n",
    "\n",
    "xgb_model = XGBRegressor(objective='reg:squarederror', learning_rate =0.1, n_estimators=500, max_depth=5,\n",
    "     min_child_weight=1, gamma=0, subsample=0.8, colsample_bytree=0.8, nthread=6, scale_pos_weight=1)\n",
    "\n",
    "grid3 = GridSearchCV(estimator = xgb_model, param_grid = param_test3, n_jobs=6, iid=False, \n",
    "                     verbose=10, scoring='r2', refit=True)\n",
    "\n",
    "grid3.fit(X_train,y_train)\n",
    "print('best params:',grid3.best_params_)\n",
    "print('best score:',grid3.best_score_)"
   ]
  },
  {
   "cell_type": "code",
   "execution_count": 111,
   "metadata": {},
   "outputs": [
    {
     "name": "stdout",
     "output_type": "stream",
     "text": [
      "Fitting 5 folds for each of 18 candidates, totalling 90 fits\n"
     ]
    },
    {
     "name": "stderr",
     "output_type": "stream",
     "text": [
      "[Parallel(n_jobs=6)]: Using backend LokyBackend with 6 concurrent workers.\n",
      "[Parallel(n_jobs=6)]: Done   1 tasks      | elapsed:   30.3s\n",
      "[Parallel(n_jobs=6)]: Done   6 tasks      | elapsed:   30.8s\n",
      "[Parallel(n_jobs=6)]: Done  13 tasks      | elapsed:  1.5min\n",
      "[Parallel(n_jobs=6)]: Done  20 tasks      | elapsed:  2.0min\n",
      "[Parallel(n_jobs=6)]: Done  29 tasks      | elapsed:  2.6min\n",
      "[Parallel(n_jobs=6)]: Done  38 tasks      | elapsed:  3.6min\n",
      "[Parallel(n_jobs=6)]: Done  49 tasks      | elapsed:  4.6min\n",
      "[Parallel(n_jobs=6)]: Done  60 tasks      | elapsed:  5.3min\n",
      "[Parallel(n_jobs=6)]: Done  73 tasks      | elapsed:  7.2min\n",
      "[Parallel(n_jobs=6)]: Done  90 out of  90 | elapsed:  8.3min finished\n"
     ]
    },
    {
     "name": "stdout",
     "output_type": "stream",
     "text": [
      "best params: {'reg_alpha': 1e-05, 'reg_lambda': 0.01, 'subsample': 0.95}\n",
      "best score: 0.7110829287354496\n"
     ]
    }
   ],
   "source": [
    "#tuning reg_alpha, reg_lambda and subsample\n",
    "param_test4 = {\n",
    "    'reg_alpha':[1e-5, 1e-2,  0.75],\n",
    "    'reg_lambda':[1e-5, 1e-2, 0.45],\n",
    "    'subsample':[0.6,0.95]\n",
    "}\n",
    "\n",
    "xgb_model = XGBRegressor(objective='reg:squarederror',learning_rate =0.1, n_estimators=500, max_depth=5,\n",
    "     min_child_weight=1, gamma=0, subsample=0.8, colsample_bytree=0.8, nthread=6, scale_pos_weight=1)\n",
    "\n",
    "grid4 = GridSearchCV(estimator = xgb_model, param_grid = param_test4, n_jobs=6, iid=False, \n",
    "                     verbose=10, scoring='r2', refit=True)\n",
    "\n",
    "grid4.fit(X_train,y_train)\n",
    "print('best params:',grid4.best_params_)\n",
    "print('best score:',grid4.best_score_)"
   ]
  },
  {
   "cell_type": "code",
   "execution_count": 95,
   "metadata": {},
   "outputs": [
    {
     "name": "stdout",
     "output_type": "stream",
     "text": [
      "Fitting 5 folds for each of 3 candidates, totalling 15 fits\n"
     ]
    },
    {
     "name": "stderr",
     "output_type": "stream",
     "text": [
      "[Parallel(n_jobs=6)]: Using backend LokyBackend with 6 concurrent workers.\n",
      "[Parallel(n_jobs=6)]: Done   1 tasks      | elapsed:   33.7s\n",
      "[Parallel(n_jobs=6)]: Done   6 out of  15 | elapsed:   34.5s remaining:   51.7s\n",
      "[Parallel(n_jobs=6)]: Done   8 out of  15 | elapsed:  1.1min remaining:   55.7s\n",
      "[Parallel(n_jobs=6)]: Done  10 out of  15 | elapsed:  1.1min remaining:   32.0s\n",
      "[Parallel(n_jobs=6)]: Done  12 out of  15 | elapsed:  1.1min remaining:   16.1s\n",
      "[Parallel(n_jobs=6)]: Done  15 out of  15 | elapsed:  1.4min finished\n"
     ]
    },
    {
     "name": "stdout",
     "output_type": "stream",
     "text": [
      "best params: {'reg_lambda': 0.01}\n",
      "best score: 0.7213685243149421\n"
     ]
    }
   ],
   "source": [
    "#fine tuning reg_lambda \n",
    "param_test4b = {\n",
    "    'reg_lambda':[1e-2, 0.1, 0.3]\n",
    "}\n",
    "\n",
    "xgb_model = XGBRegressor(objective='reg:squarederror',learning_rate =0.1, n_estimators=500, max_depth=5,\n",
    "     min_child_weight=1, gamma=0, subsample=0.8, colsample_bytree=0.8, nthread=6, scale_pos_weight=1)\n",
    "\n",
    "grid4b = GridSearchCV(estimator = xgb_model, param_grid = param_test4b, n_jobs=6, iid=False, \n",
    "                     verbose=10, scoring='r2', refit=True)\n",
    "\n",
    "grid4b.fit(X_train,y_train)\n",
    "print('best params:',grid4b.best_params_)\n",
    "print('best score:',grid4b.best_score_)"
   ]
  },
  {
   "cell_type": "code",
   "execution_count": 32,
   "metadata": {},
   "outputs": [
    {
     "name": "stdout",
     "output_type": "stream",
     "text": [
      "Train r2 score: 0.859761349082788\n",
      "Test r2 score: 0.6462100848122783\n",
      "Train RMSE: 4528.4336\n",
      "Test RMSE: 6787.6422\n"
     ]
    }
   ],
   "source": [
    "#using all the best params from gridsearch\n",
    "xgb3 = XGBRegressor(objective='reg:squarederror',learning_rate=0.1, n_estimators=500, max_depth=5,\n",
    "        min_child_weight=1, gamma=0, subsample=0.95, colsample_bytree=0.4, \n",
    "        reg_alpha=1e-05, reg_lambda=0.01).fit(X_train, y_train, early_stopping_rounds=5, \n",
    "             eval_set=[(X_test, y_test)], verbose=False)\n",
    "y_train_pred_xg3 = xgb3.predict(X_train)\n",
    "y_pred_xg3 = xgb3.predict(X_test)\n",
    "\n",
    "print (\"Train r2 score:\", r2_score(y_pred=y_train_pred_xg3,y_true=y_train))\n",
    "print(\"Test r2 score:\", r2_score(y_test, y_pred_xg3))\n",
    "train_mse3 = mean_squared_error(y_train_pred_xg3, y_train)\n",
    "test_mse3 = mean_squared_error(y_pred_xg3, y_test)\n",
    "train_rmse3 = np.sqrt(train_mse3)\n",
    "test_rmse3 = np.sqrt(test_mse3)\n",
    "print(\"Train RMSE: %.4f\" % train_rmse3)\n",
    "print(\"Test RMSE: %.4f\" % test_rmse3)"
   ]
  },
  {
   "cell_type": "code",
   "execution_count": 62,
   "metadata": {},
   "outputs": [
    {
     "name": "stdout",
     "output_type": "stream",
     "text": [
      "   true price  predicted price\n",
      "0       16500     18584.605469\n",
      "1       13600     16152.747070\n",
      "2       10330     13512.653320\n",
      "3       18000     13845.378906\n",
      "4       24000     26632.314453\n"
     ]
    }
   ],
   "source": [
    "#predict car prices\n",
    "prediction = xgb3.predict(X_test)\n",
    "test=pd.DataFrame({\"true price\":(y_test),\"predicted price\":(prediction)})\n",
    "print(test.head(5))"
   ]
  },
  {
   "cell_type": "code",
   "execution_count": 34,
   "metadata": {
    "scrolled": true
   },
   "outputs": [
    {
     "name": "stdout",
     "output_type": "stream",
     "text": [
      "[0]\tvalidation_0-rmse:20703.4\tvalidation_1-rmse:20577.2\n",
      "[1]\tvalidation_0-rmse:19139.3\tvalidation_1-rmse:18964.1\n",
      "[2]\tvalidation_0-rmse:17673.3\tvalidation_1-rmse:17534.7\n",
      "[3]\tvalidation_0-rmse:16377.9\tvalidation_1-rmse:16249.1\n",
      "[4]\tvalidation_0-rmse:15318.3\tvalidation_1-rmse:15153.3\n",
      "[5]\tvalidation_0-rmse:14297.1\tvalidation_1-rmse:14114.3\n",
      "[6]\tvalidation_0-rmse:13385.7\tvalidation_1-rmse:13235.7\n",
      "[7]\tvalidation_0-rmse:12580.8\tvalidation_1-rmse:12484.5\n",
      "[8]\tvalidation_0-rmse:11860.5\tvalidation_1-rmse:11859.9\n",
      "[9]\tvalidation_0-rmse:11300.9\tvalidation_1-rmse:11316.3\n",
      "[10]\tvalidation_0-rmse:10771.8\tvalidation_1-rmse:10866.3\n",
      "[11]\tvalidation_0-rmse:10337\tvalidation_1-rmse:10433\n",
      "[12]\tvalidation_0-rmse:9949.5\tvalidation_1-rmse:10103.7\n",
      "[13]\tvalidation_0-rmse:9572.81\tvalidation_1-rmse:9804.34\n",
      "[14]\tvalidation_0-rmse:9261.87\tvalidation_1-rmse:9500.14\n",
      "[15]\tvalidation_0-rmse:9032.45\tvalidation_1-rmse:9296.66\n",
      "[16]\tvalidation_0-rmse:8782.66\tvalidation_1-rmse:9090.89\n",
      "[17]\tvalidation_0-rmse:8542.11\tvalidation_1-rmse:8922.63\n",
      "[18]\tvalidation_0-rmse:8363.05\tvalidation_1-rmse:8778.2\n",
      "[19]\tvalidation_0-rmse:8152.98\tvalidation_1-rmse:8660.73\n",
      "[20]\tvalidation_0-rmse:7980.03\tvalidation_1-rmse:8552.68\n",
      "[21]\tvalidation_0-rmse:7840.59\tvalidation_1-rmse:8487.33\n",
      "[22]\tvalidation_0-rmse:7729.97\tvalidation_1-rmse:8419.65\n",
      "[23]\tvalidation_0-rmse:7641.76\tvalidation_1-rmse:8347.14\n",
      "[24]\tvalidation_0-rmse:7534\tvalidation_1-rmse:8273.97\n",
      "[25]\tvalidation_0-rmse:7438.52\tvalidation_1-rmse:8237.5\n",
      "[26]\tvalidation_0-rmse:7369.57\tvalidation_1-rmse:8213.21\n",
      "[27]\tvalidation_0-rmse:7288.44\tvalidation_1-rmse:8175.19\n",
      "[28]\tvalidation_0-rmse:7221.29\tvalidation_1-rmse:8128.97\n",
      "[29]\tvalidation_0-rmse:7144.48\tvalidation_1-rmse:8065.95\n",
      "[30]\tvalidation_0-rmse:7082.25\tvalidation_1-rmse:8022.03\n",
      "[31]\tvalidation_0-rmse:7027.79\tvalidation_1-rmse:7998.14\n",
      "[32]\tvalidation_0-rmse:6980.87\tvalidation_1-rmse:7974.76\n",
      "[33]\tvalidation_0-rmse:6929.66\tvalidation_1-rmse:7952.12\n",
      "[34]\tvalidation_0-rmse:6879.54\tvalidation_1-rmse:7940.36\n",
      "[35]\tvalidation_0-rmse:6841.03\tvalidation_1-rmse:7914.58\n",
      "[36]\tvalidation_0-rmse:6799.28\tvalidation_1-rmse:7901.96\n",
      "[37]\tvalidation_0-rmse:6763.44\tvalidation_1-rmse:7893.62\n",
      "[38]\tvalidation_0-rmse:6705.64\tvalidation_1-rmse:7884.18\n",
      "[39]\tvalidation_0-rmse:6678.35\tvalidation_1-rmse:7869.24\n",
      "[40]\tvalidation_0-rmse:6646.62\tvalidation_1-rmse:7847.19\n",
      "[41]\tvalidation_0-rmse:6580.21\tvalidation_1-rmse:7813.67\n",
      "[42]\tvalidation_0-rmse:6543.15\tvalidation_1-rmse:7792.59\n",
      "[43]\tvalidation_0-rmse:6503.49\tvalidation_1-rmse:7775.5\n",
      "[44]\tvalidation_0-rmse:6468.21\tvalidation_1-rmse:7757.08\n",
      "[45]\tvalidation_0-rmse:6425.1\tvalidation_1-rmse:7724.94\n",
      "[46]\tvalidation_0-rmse:6386.52\tvalidation_1-rmse:7702.22\n",
      "[47]\tvalidation_0-rmse:6359.23\tvalidation_1-rmse:7696.65\n",
      "[48]\tvalidation_0-rmse:6325.47\tvalidation_1-rmse:7649.74\n",
      "[49]\tvalidation_0-rmse:6282.91\tvalidation_1-rmse:7638.3\n",
      "[50]\tvalidation_0-rmse:6261.55\tvalidation_1-rmse:7621.81\n",
      "[51]\tvalidation_0-rmse:6237.86\tvalidation_1-rmse:7612.93\n",
      "[52]\tvalidation_0-rmse:6213.2\tvalidation_1-rmse:7592.22\n",
      "[53]\tvalidation_0-rmse:6192.32\tvalidation_1-rmse:7583.58\n",
      "[54]\tvalidation_0-rmse:6167.42\tvalidation_1-rmse:7571.55\n",
      "[55]\tvalidation_0-rmse:6137.63\tvalidation_1-rmse:7559.97\n",
      "[56]\tvalidation_0-rmse:6119.67\tvalidation_1-rmse:7554.23\n",
      "[57]\tvalidation_0-rmse:6084.97\tvalidation_1-rmse:7543.8\n",
      "[58]\tvalidation_0-rmse:6069.46\tvalidation_1-rmse:7533.47\n",
      "[59]\tvalidation_0-rmse:6051.73\tvalidation_1-rmse:7528.41\n",
      "[60]\tvalidation_0-rmse:6004.85\tvalidation_1-rmse:7516.21\n",
      "[61]\tvalidation_0-rmse:5985.38\tvalidation_1-rmse:7506.58\n",
      "[62]\tvalidation_0-rmse:5970.81\tvalidation_1-rmse:7487.53\n",
      "[63]\tvalidation_0-rmse:5956.37\tvalidation_1-rmse:7472.57\n",
      "[64]\tvalidation_0-rmse:5921.99\tvalidation_1-rmse:7456.13\n",
      "[65]\tvalidation_0-rmse:5888.28\tvalidation_1-rmse:7441.28\n",
      "[66]\tvalidation_0-rmse:5872.03\tvalidation_1-rmse:7423.01\n",
      "[67]\tvalidation_0-rmse:5859.19\tvalidation_1-rmse:7420.36\n",
      "[68]\tvalidation_0-rmse:5843.04\tvalidation_1-rmse:7409.52\n",
      "[69]\tvalidation_0-rmse:5823.74\tvalidation_1-rmse:7399.69\n",
      "[70]\tvalidation_0-rmse:5794.72\tvalidation_1-rmse:7383.33\n",
      "[71]\tvalidation_0-rmse:5777.68\tvalidation_1-rmse:7379.94\n",
      "[72]\tvalidation_0-rmse:5765.04\tvalidation_1-rmse:7376.64\n",
      "[73]\tvalidation_0-rmse:5751.57\tvalidation_1-rmse:7364.67\n",
      "[74]\tvalidation_0-rmse:5730.73\tvalidation_1-rmse:7359.03\n",
      "[75]\tvalidation_0-rmse:5720.58\tvalidation_1-rmse:7351.88\n",
      "[76]\tvalidation_0-rmse:5706.69\tvalidation_1-rmse:7341.14\n",
      "[77]\tvalidation_0-rmse:5681.64\tvalidation_1-rmse:7332.78\n",
      "[78]\tvalidation_0-rmse:5651.73\tvalidation_1-rmse:7299.28\n",
      "[79]\tvalidation_0-rmse:5641.21\tvalidation_1-rmse:7290.28\n",
      "[80]\tvalidation_0-rmse:5627.82\tvalidation_1-rmse:7274.02\n",
      "[81]\tvalidation_0-rmse:5598.6\tvalidation_1-rmse:7263.41\n",
      "[82]\tvalidation_0-rmse:5588.23\tvalidation_1-rmse:7259.24\n",
      "[83]\tvalidation_0-rmse:5560.71\tvalidation_1-rmse:7238.36\n",
      "[84]\tvalidation_0-rmse:5550.12\tvalidation_1-rmse:7234.18\n",
      "[85]\tvalidation_0-rmse:5540.47\tvalidation_1-rmse:7233.31\n",
      "[86]\tvalidation_0-rmse:5524.55\tvalidation_1-rmse:7224.6\n",
      "[87]\tvalidation_0-rmse:5516.11\tvalidation_1-rmse:7218.59\n",
      "[88]\tvalidation_0-rmse:5498.45\tvalidation_1-rmse:7198.37\n",
      "[89]\tvalidation_0-rmse:5490.18\tvalidation_1-rmse:7192.1\n",
      "[90]\tvalidation_0-rmse:5480.01\tvalidation_1-rmse:7192.54\n",
      "[91]\tvalidation_0-rmse:5472.67\tvalidation_1-rmse:7191.77\n",
      "[92]\tvalidation_0-rmse:5448.72\tvalidation_1-rmse:7185.95\n",
      "[93]\tvalidation_0-rmse:5419.74\tvalidation_1-rmse:7181.49\n",
      "[94]\tvalidation_0-rmse:5408.63\tvalidation_1-rmse:7169.68\n",
      "[95]\tvalidation_0-rmse:5391.99\tvalidation_1-rmse:7163.68\n",
      "[96]\tvalidation_0-rmse:5376.67\tvalidation_1-rmse:7152.76\n",
      "[97]\tvalidation_0-rmse:5367.88\tvalidation_1-rmse:7146.02\n",
      "[98]\tvalidation_0-rmse:5359.68\tvalidation_1-rmse:7136.69\n",
      "[99]\tvalidation_0-rmse:5352.09\tvalidation_1-rmse:7131.27\n",
      "[100]\tvalidation_0-rmse:5341.3\tvalidation_1-rmse:7126.95\n",
      "[101]\tvalidation_0-rmse:5334.19\tvalidation_1-rmse:7126.26\n",
      "[102]\tvalidation_0-rmse:5327.61\tvalidation_1-rmse:7120.27\n",
      "[103]\tvalidation_0-rmse:5315.43\tvalidation_1-rmse:7114.43\n",
      "[104]\tvalidation_0-rmse:5290.96\tvalidation_1-rmse:7088.94\n",
      "[105]\tvalidation_0-rmse:5275.02\tvalidation_1-rmse:7083.38\n",
      "[106]\tvalidation_0-rmse:5261.54\tvalidation_1-rmse:7089.39\n",
      "[107]\tvalidation_0-rmse:5255.87\tvalidation_1-rmse:7090.46\n",
      "[108]\tvalidation_0-rmse:5242.79\tvalidation_1-rmse:7083.74\n",
      "[109]\tvalidation_0-rmse:5236.27\tvalidation_1-rmse:7080.03\n",
      "[110]\tvalidation_0-rmse:5225.54\tvalidation_1-rmse:7072.19\n",
      "[111]\tvalidation_0-rmse:5214.26\tvalidation_1-rmse:7061.02\n",
      "[112]\tvalidation_0-rmse:5202.62\tvalidation_1-rmse:7050.2\n",
      "[113]\tvalidation_0-rmse:5191.67\tvalidation_1-rmse:7041.8\n",
      "[114]\tvalidation_0-rmse:5167.04\tvalidation_1-rmse:7030.66\n",
      "[115]\tvalidation_0-rmse:5148.1\tvalidation_1-rmse:7023.29\n",
      "[116]\tvalidation_0-rmse:5141.83\tvalidation_1-rmse:7020.31\n",
      "[117]\tvalidation_0-rmse:5135.62\tvalidation_1-rmse:7016.5\n",
      "[118]\tvalidation_0-rmse:5129.46\tvalidation_1-rmse:7015.14\n",
      "[119]\tvalidation_0-rmse:5120.3\tvalidation_1-rmse:7014.97\n",
      "[120]\tvalidation_0-rmse:5103.56\tvalidation_1-rmse:7015.09\n",
      "[121]\tvalidation_0-rmse:5094.79\tvalidation_1-rmse:7003.72\n",
      "[122]\tvalidation_0-rmse:5089.63\tvalidation_1-rmse:6996.6\n",
      "[123]\tvalidation_0-rmse:5076.91\tvalidation_1-rmse:6988.84\n",
      "[124]\tvalidation_0-rmse:5072.26\tvalidation_1-rmse:6984.87\n",
      "[125]\tvalidation_0-rmse:5067.33\tvalidation_1-rmse:6982.87\n",
      "[126]\tvalidation_0-rmse:5058.39\tvalidation_1-rmse:6979.32\n",
      "[127]\tvalidation_0-rmse:5043.5\tvalidation_1-rmse:6969.24\n",
      "[128]\tvalidation_0-rmse:5038.56\tvalidation_1-rmse:6966.74\n",
      "[129]\tvalidation_0-rmse:5033.68\tvalidation_1-rmse:6962\n",
      "[130]\tvalidation_0-rmse:5025.87\tvalidation_1-rmse:6959.7\n",
      "[131]\tvalidation_0-rmse:5015.37\tvalidation_1-rmse:6959.07\n",
      "[132]\tvalidation_0-rmse:5007.81\tvalidation_1-rmse:6951.25\n",
      "[133]\tvalidation_0-rmse:4992.07\tvalidation_1-rmse:6944.6\n",
      "[134]\tvalidation_0-rmse:4984.64\tvalidation_1-rmse:6939.9\n",
      "[135]\tvalidation_0-rmse:4972.28\tvalidation_1-rmse:6938\n",
      "[136]\tvalidation_0-rmse:4968.15\tvalidation_1-rmse:6932.6\n",
      "[137]\tvalidation_0-rmse:4957.42\tvalidation_1-rmse:6931.7\n",
      "[138]\tvalidation_0-rmse:4944.41\tvalidation_1-rmse:6924.25\n",
      "[139]\tvalidation_0-rmse:4940.26\tvalidation_1-rmse:6920.89\n",
      "[140]\tvalidation_0-rmse:4934.26\tvalidation_1-rmse:6918.96\n",
      "[141]\tvalidation_0-rmse:4930.43\tvalidation_1-rmse:6918.84\n",
      "[142]\tvalidation_0-rmse:4924.65\tvalidation_1-rmse:6912.08\n",
      "[143]\tvalidation_0-rmse:4920.22\tvalidation_1-rmse:6912.12\n"
     ]
    },
    {
     "name": "stdout",
     "output_type": "stream",
     "text": [
      "[144]\tvalidation_0-rmse:4916.94\tvalidation_1-rmse:6910.79\n",
      "[145]\tvalidation_0-rmse:4903.56\tvalidation_1-rmse:6913.45\n",
      "[146]\tvalidation_0-rmse:4882.13\tvalidation_1-rmse:6892.06\n",
      "[147]\tvalidation_0-rmse:4873.54\tvalidation_1-rmse:6890.75\n",
      "[148]\tvalidation_0-rmse:4867.08\tvalidation_1-rmse:6889.49\n",
      "[149]\tvalidation_0-rmse:4855.5\tvalidation_1-rmse:6885.08\n",
      "[150]\tvalidation_0-rmse:4838.06\tvalidation_1-rmse:6882.67\n",
      "[151]\tvalidation_0-rmse:4832.93\tvalidation_1-rmse:6880.02\n",
      "[152]\tvalidation_0-rmse:4823.86\tvalidation_1-rmse:6875.73\n",
      "[153]\tvalidation_0-rmse:4815.98\tvalidation_1-rmse:6876.51\n",
      "[154]\tvalidation_0-rmse:4809.12\tvalidation_1-rmse:6871.49\n",
      "[155]\tvalidation_0-rmse:4793.89\tvalidation_1-rmse:6875.96\n",
      "[156]\tvalidation_0-rmse:4787.46\tvalidation_1-rmse:6869.84\n",
      "[157]\tvalidation_0-rmse:4780.75\tvalidation_1-rmse:6865.1\n",
      "[158]\tvalidation_0-rmse:4772.43\tvalidation_1-rmse:6865.68\n",
      "[159]\tvalidation_0-rmse:4766.34\tvalidation_1-rmse:6867.83\n",
      "[160]\tvalidation_0-rmse:4708.81\tvalidation_1-rmse:6855.61\n",
      "[161]\tvalidation_0-rmse:4705.5\tvalidation_1-rmse:6853.2\n",
      "[162]\tvalidation_0-rmse:4700.7\tvalidation_1-rmse:6845.17\n",
      "[163]\tvalidation_0-rmse:4697.41\tvalidation_1-rmse:6844.81\n",
      "[164]\tvalidation_0-rmse:4675.11\tvalidation_1-rmse:6842.44\n",
      "[165]\tvalidation_0-rmse:4667.13\tvalidation_1-rmse:6834.56\n",
      "[166]\tvalidation_0-rmse:4660.33\tvalidation_1-rmse:6832.72\n",
      "[167]\tvalidation_0-rmse:4657.39\tvalidation_1-rmse:6830.02\n",
      "[168]\tvalidation_0-rmse:4652.73\tvalidation_1-rmse:6823.46\n",
      "[169]\tvalidation_0-rmse:4647.89\tvalidation_1-rmse:6820.69\n",
      "[170]\tvalidation_0-rmse:4644.44\tvalidation_1-rmse:6821\n",
      "[171]\tvalidation_0-rmse:4640.06\tvalidation_1-rmse:6819.79\n",
      "[172]\tvalidation_0-rmse:4633.96\tvalidation_1-rmse:6806.84\n",
      "[173]\tvalidation_0-rmse:4630.39\tvalidation_1-rmse:6806.81\n",
      "[174]\tvalidation_0-rmse:4589.53\tvalidation_1-rmse:6805.03\n",
      "[175]\tvalidation_0-rmse:4561.05\tvalidation_1-rmse:6801.72\n",
      "[176]\tvalidation_0-rmse:4558\tvalidation_1-rmse:6799.49\n",
      "[177]\tvalidation_0-rmse:4553.44\tvalidation_1-rmse:6798.41\n",
      "[178]\tvalidation_0-rmse:4537.81\tvalidation_1-rmse:6792.05\n",
      "[179]\tvalidation_0-rmse:4534.87\tvalidation_1-rmse:6789.99\n",
      "[180]\tvalidation_0-rmse:4531.91\tvalidation_1-rmse:6790.63\n",
      "[181]\tvalidation_0-rmse:4528.44\tvalidation_1-rmse:6787.64\n",
      "[182]\tvalidation_0-rmse:4521.44\tvalidation_1-rmse:6790.9\n",
      "[183]\tvalidation_0-rmse:4517.51\tvalidation_1-rmse:6790.38\n",
      "[184]\tvalidation_0-rmse:4481.56\tvalidation_1-rmse:6801.33\n",
      "[185]\tvalidation_0-rmse:4471.53\tvalidation_1-rmse:6793.39\n",
      "[186]\tvalidation_0-rmse:4461.35\tvalidation_1-rmse:6790.4\n",
      "[187]\tvalidation_0-rmse:4451.1\tvalidation_1-rmse:6788.25\n",
      "[188]\tvalidation_0-rmse:4438.8\tvalidation_1-rmse:6774.65\n",
      "[189]\tvalidation_0-rmse:4435.07\tvalidation_1-rmse:6771.41\n",
      "[190]\tvalidation_0-rmse:4432.37\tvalidation_1-rmse:6771.74\n",
      "[191]\tvalidation_0-rmse:4422.65\tvalidation_1-rmse:6771.62\n",
      "[192]\tvalidation_0-rmse:4403.77\tvalidation_1-rmse:6773.34\n",
      "[193]\tvalidation_0-rmse:4398.9\tvalidation_1-rmse:6771.9\n",
      "[194]\tvalidation_0-rmse:4396.16\tvalidation_1-rmse:6770.25\n",
      "[195]\tvalidation_0-rmse:4385.42\tvalidation_1-rmse:6768.7\n",
      "[196]\tvalidation_0-rmse:4382.11\tvalidation_1-rmse:6765.65\n",
      "[197]\tvalidation_0-rmse:4371.47\tvalidation_1-rmse:6766.85\n",
      "[198]\tvalidation_0-rmse:4369.09\tvalidation_1-rmse:6765.21\n",
      "[199]\tvalidation_0-rmse:4353.67\tvalidation_1-rmse:6767.34\n",
      "[200]\tvalidation_0-rmse:4348.44\tvalidation_1-rmse:6767.06\n",
      "[201]\tvalidation_0-rmse:4343\tvalidation_1-rmse:6772.09\n",
      "[202]\tvalidation_0-rmse:4340.9\tvalidation_1-rmse:6771.57\n",
      "[203]\tvalidation_0-rmse:4337.89\tvalidation_1-rmse:6769.95\n",
      "[204]\tvalidation_0-rmse:4335.8\tvalidation_1-rmse:6769.27\n",
      "[205]\tvalidation_0-rmse:4333.72\tvalidation_1-rmse:6768.26\n",
      "[206]\tvalidation_0-rmse:4331.45\tvalidation_1-rmse:6767.95\n",
      "[207]\tvalidation_0-rmse:4328.7\tvalidation_1-rmse:6769.09\n",
      "[208]\tvalidation_0-rmse:4324.86\tvalidation_1-rmse:6767.78\n",
      "[209]\tvalidation_0-rmse:4321.15\tvalidation_1-rmse:6766.18\n",
      "[210]\tvalidation_0-rmse:4319.04\tvalidation_1-rmse:6763.88\n",
      "[211]\tvalidation_0-rmse:4306.1\tvalidation_1-rmse:6754.69\n",
      "[212]\tvalidation_0-rmse:4300.51\tvalidation_1-rmse:6752.48\n",
      "[213]\tvalidation_0-rmse:4279.7\tvalidation_1-rmse:6759.86\n",
      "[214]\tvalidation_0-rmse:4277.66\tvalidation_1-rmse:6760.52\n",
      "[215]\tvalidation_0-rmse:4265.53\tvalidation_1-rmse:6761.02\n",
      "[216]\tvalidation_0-rmse:4260.86\tvalidation_1-rmse:6760.06\n",
      "[217]\tvalidation_0-rmse:4251.92\tvalidation_1-rmse:6753.08\n",
      "[218]\tvalidation_0-rmse:4248.93\tvalidation_1-rmse:6753.79\n",
      "[219]\tvalidation_0-rmse:4241.74\tvalidation_1-rmse:6752.32\n",
      "[220]\tvalidation_0-rmse:4238.33\tvalidation_1-rmse:6752.11\n",
      "[221]\tvalidation_0-rmse:4236.67\tvalidation_1-rmse:6751.82\n",
      "[222]\tvalidation_0-rmse:4234.14\tvalidation_1-rmse:6751.07\n",
      "[223]\tvalidation_0-rmse:4232.31\tvalidation_1-rmse:6749.04\n",
      "[224]\tvalidation_0-rmse:4228.63\tvalidation_1-rmse:6747.82\n",
      "[225]\tvalidation_0-rmse:4217.66\tvalidation_1-rmse:6749.77\n",
      "[226]\tvalidation_0-rmse:4213.27\tvalidation_1-rmse:6748.39\n",
      "[227]\tvalidation_0-rmse:4200.79\tvalidation_1-rmse:6748.61\n",
      "[228]\tvalidation_0-rmse:4196.97\tvalidation_1-rmse:6747.32\n",
      "[229]\tvalidation_0-rmse:4194.74\tvalidation_1-rmse:6747.89\n",
      "[230]\tvalidation_0-rmse:4182.58\tvalidation_1-rmse:6745.45\n",
      "[231]\tvalidation_0-rmse:4180.93\tvalidation_1-rmse:6745.76\n",
      "[232]\tvalidation_0-rmse:4175.29\tvalidation_1-rmse:6743.06\n",
      "[233]\tvalidation_0-rmse:4157.15\tvalidation_1-rmse:6746.56\n",
      "[234]\tvalidation_0-rmse:4154.33\tvalidation_1-rmse:6739.37\n",
      "[235]\tvalidation_0-rmse:4149.43\tvalidation_1-rmse:6735.68\n",
      "[236]\tvalidation_0-rmse:4133.23\tvalidation_1-rmse:6735.49\n",
      "[237]\tvalidation_0-rmse:4124.1\tvalidation_1-rmse:6733.63\n",
      "[238]\tvalidation_0-rmse:4095.9\tvalidation_1-rmse:6732.75\n",
      "[239]\tvalidation_0-rmse:4091.67\tvalidation_1-rmse:6732.88\n",
      "[240]\tvalidation_0-rmse:4087.81\tvalidation_1-rmse:6730.8\n",
      "[241]\tvalidation_0-rmse:4084.29\tvalidation_1-rmse:6728.6\n",
      "[242]\tvalidation_0-rmse:4081.85\tvalidation_1-rmse:6728.65\n",
      "[243]\tvalidation_0-rmse:4078.24\tvalidation_1-rmse:6730.93\n",
      "[244]\tvalidation_0-rmse:4037.82\tvalidation_1-rmse:6726.7\n",
      "[245]\tvalidation_0-rmse:4035.53\tvalidation_1-rmse:6725.81\n",
      "[246]\tvalidation_0-rmse:4031\tvalidation_1-rmse:6719.76\n",
      "[247]\tvalidation_0-rmse:4028.54\tvalidation_1-rmse:6718.5\n",
      "[248]\tvalidation_0-rmse:4027.3\tvalidation_1-rmse:6717.05\n",
      "[249]\tvalidation_0-rmse:4026.01\tvalidation_1-rmse:6717.38\n",
      "[250]\tvalidation_0-rmse:4024.54\tvalidation_1-rmse:6716.12\n",
      "[251]\tvalidation_0-rmse:4003.99\tvalidation_1-rmse:6716.81\n",
      "[252]\tvalidation_0-rmse:4002.74\tvalidation_1-rmse:6716.54\n",
      "[253]\tvalidation_0-rmse:3997.28\tvalidation_1-rmse:6712.99\n",
      "[254]\tvalidation_0-rmse:3991.98\tvalidation_1-rmse:6712\n",
      "[255]\tvalidation_0-rmse:3988.72\tvalidation_1-rmse:6710.14\n",
      "[256]\tvalidation_0-rmse:3983.21\tvalidation_1-rmse:6706.7\n",
      "[257]\tvalidation_0-rmse:3971.88\tvalidation_1-rmse:6703.78\n",
      "[258]\tvalidation_0-rmse:3970.26\tvalidation_1-rmse:6701.71\n",
      "[259]\tvalidation_0-rmse:3967.63\tvalidation_1-rmse:6700.77\n",
      "[260]\tvalidation_0-rmse:3946.36\tvalidation_1-rmse:6703.81\n",
      "[261]\tvalidation_0-rmse:3945.08\tvalidation_1-rmse:6704.24\n",
      "[262]\tvalidation_0-rmse:3941.45\tvalidation_1-rmse:6704.47\n",
      "[263]\tvalidation_0-rmse:3940.24\tvalidation_1-rmse:6704.37\n",
      "[264]\tvalidation_0-rmse:3936.7\tvalidation_1-rmse:6703.71\n",
      "[265]\tvalidation_0-rmse:3924.54\tvalidation_1-rmse:6699.92\n",
      "[266]\tvalidation_0-rmse:3903.65\tvalidation_1-rmse:6705.93\n",
      "[267]\tvalidation_0-rmse:3893.18\tvalidation_1-rmse:6707.14\n",
      "[268]\tvalidation_0-rmse:3875.01\tvalidation_1-rmse:6701.8\n",
      "[269]\tvalidation_0-rmse:3873.66\tvalidation_1-rmse:6701.03\n",
      "[270]\tvalidation_0-rmse:3868.78\tvalidation_1-rmse:6700.82\n",
      "[271]\tvalidation_0-rmse:3864.32\tvalidation_1-rmse:6698.63\n",
      "[272]\tvalidation_0-rmse:3862.79\tvalidation_1-rmse:6697.96\n",
      "[273]\tvalidation_0-rmse:3860.57\tvalidation_1-rmse:6697.94\n",
      "[274]\tvalidation_0-rmse:3859.23\tvalidation_1-rmse:6697.95\n",
      "[275]\tvalidation_0-rmse:3858.09\tvalidation_1-rmse:6698.6\n",
      "[276]\tvalidation_0-rmse:3853.83\tvalidation_1-rmse:6696.79\n",
      "[277]\tvalidation_0-rmse:3849.37\tvalidation_1-rmse:6693.84\n",
      "[278]\tvalidation_0-rmse:3844.47\tvalidation_1-rmse:6699.32\n",
      "[279]\tvalidation_0-rmse:3841.65\tvalidation_1-rmse:6699.51\n",
      "[280]\tvalidation_0-rmse:3840.39\tvalidation_1-rmse:6698.31\n",
      "[281]\tvalidation_0-rmse:3837.98\tvalidation_1-rmse:6697.43\n",
      "[282]\tvalidation_0-rmse:3836.29\tvalidation_1-rmse:6696.93\n",
      "[283]\tvalidation_0-rmse:3826.36\tvalidation_1-rmse:6702.96\n",
      "[284]\tvalidation_0-rmse:3822.84\tvalidation_1-rmse:6700.76\n",
      "[285]\tvalidation_0-rmse:3813.12\tvalidation_1-rmse:6708.99\n"
     ]
    },
    {
     "name": "stdout",
     "output_type": "stream",
     "text": [
      "[286]\tvalidation_0-rmse:3811.89\tvalidation_1-rmse:6709.96\n",
      "[287]\tvalidation_0-rmse:3810.16\tvalidation_1-rmse:6710.96\n",
      "[288]\tvalidation_0-rmse:3809.18\tvalidation_1-rmse:6709.3\n",
      "[289]\tvalidation_0-rmse:3806.44\tvalidation_1-rmse:6708.58\n",
      "[290]\tvalidation_0-rmse:3805.4\tvalidation_1-rmse:6709.93\n",
      "[291]\tvalidation_0-rmse:3800.39\tvalidation_1-rmse:6719.16\n",
      "[292]\tvalidation_0-rmse:3798.66\tvalidation_1-rmse:6718.38\n",
      "[293]\tvalidation_0-rmse:3797.6\tvalidation_1-rmse:6716.7\n",
      "[294]\tvalidation_0-rmse:3794.39\tvalidation_1-rmse:6712.11\n",
      "[295]\tvalidation_0-rmse:3792.33\tvalidation_1-rmse:6711.69\n",
      "[296]\tvalidation_0-rmse:3780.44\tvalidation_1-rmse:6711.07\n",
      "[297]\tvalidation_0-rmse:3770.56\tvalidation_1-rmse:6711.79\n",
      "[298]\tvalidation_0-rmse:3765.61\tvalidation_1-rmse:6715.48\n",
      "[299]\tvalidation_0-rmse:3760.77\tvalidation_1-rmse:6716.08\n",
      "[300]\tvalidation_0-rmse:3756.81\tvalidation_1-rmse:6718.4\n",
      "[301]\tvalidation_0-rmse:3753.35\tvalidation_1-rmse:6720.69\n",
      "[302]\tvalidation_0-rmse:3740.97\tvalidation_1-rmse:6719.66\n",
      "[303]\tvalidation_0-rmse:3731.52\tvalidation_1-rmse:6718.5\n",
      "[304]\tvalidation_0-rmse:3730.31\tvalidation_1-rmse:6719.08\n",
      "[305]\tvalidation_0-rmse:3726.74\tvalidation_1-rmse:6715.67\n",
      "[306]\tvalidation_0-rmse:3715.8\tvalidation_1-rmse:6706.74\n",
      "[307]\tvalidation_0-rmse:3714.97\tvalidation_1-rmse:6706.86\n",
      "[308]\tvalidation_0-rmse:3711.84\tvalidation_1-rmse:6707\n",
      "[309]\tvalidation_0-rmse:3704.6\tvalidation_1-rmse:6708.35\n",
      "[310]\tvalidation_0-rmse:3701.13\tvalidation_1-rmse:6708.41\n",
      "[311]\tvalidation_0-rmse:3695.99\tvalidation_1-rmse:6709.03\n",
      "[312]\tvalidation_0-rmse:3689.85\tvalidation_1-rmse:6706.65\n",
      "[313]\tvalidation_0-rmse:3681.91\tvalidation_1-rmse:6710.62\n",
      "[314]\tvalidation_0-rmse:3680.89\tvalidation_1-rmse:6710.19\n",
      "[315]\tvalidation_0-rmse:3679.12\tvalidation_1-rmse:6710.43\n",
      "[316]\tvalidation_0-rmse:3677.23\tvalidation_1-rmse:6709.8\n",
      "[317]\tvalidation_0-rmse:3667.68\tvalidation_1-rmse:6704.83\n",
      "[318]\tvalidation_0-rmse:3663.19\tvalidation_1-rmse:6705.57\n",
      "[319]\tvalidation_0-rmse:3662\tvalidation_1-rmse:6703.31\n",
      "[320]\tvalidation_0-rmse:3661\tvalidation_1-rmse:6703.7\n",
      "[321]\tvalidation_0-rmse:3655.83\tvalidation_1-rmse:6705.36\n",
      "[322]\tvalidation_0-rmse:3653.53\tvalidation_1-rmse:6703.64\n",
      "[323]\tvalidation_0-rmse:3646.7\tvalidation_1-rmse:6703.13\n",
      "[324]\tvalidation_0-rmse:3635.21\tvalidation_1-rmse:6709.08\n",
      "[325]\tvalidation_0-rmse:3634.5\tvalidation_1-rmse:6710.01\n",
      "[326]\tvalidation_0-rmse:3632.76\tvalidation_1-rmse:6709.65\n",
      "[327]\tvalidation_0-rmse:3620.74\tvalidation_1-rmse:6711.06\n",
      "[328]\tvalidation_0-rmse:3604.26\tvalidation_1-rmse:6708.72\n",
      "[329]\tvalidation_0-rmse:3597.35\tvalidation_1-rmse:6713.12\n",
      "[330]\tvalidation_0-rmse:3595.48\tvalidation_1-rmse:6709.52\n",
      "[331]\tvalidation_0-rmse:3592.79\tvalidation_1-rmse:6706.95\n",
      "[332]\tvalidation_0-rmse:3588.78\tvalidation_1-rmse:6706.96\n",
      "[333]\tvalidation_0-rmse:3587.93\tvalidation_1-rmse:6704.99\n",
      "[334]\tvalidation_0-rmse:3587.13\tvalidation_1-rmse:6704.65\n",
      "[335]\tvalidation_0-rmse:3578.75\tvalidation_1-rmse:6705.6\n",
      "[336]\tvalidation_0-rmse:3575.49\tvalidation_1-rmse:6709.33\n",
      "[337]\tvalidation_0-rmse:3567.39\tvalidation_1-rmse:6713.63\n",
      "[338]\tvalidation_0-rmse:3559.54\tvalidation_1-rmse:6719.44\n",
      "[339]\tvalidation_0-rmse:3554.13\tvalidation_1-rmse:6721.38\n",
      "[340]\tvalidation_0-rmse:3552.7\tvalidation_1-rmse:6720.9\n",
      "[341]\tvalidation_0-rmse:3548.41\tvalidation_1-rmse:6725.52\n",
      "[342]\tvalidation_0-rmse:3547.32\tvalidation_1-rmse:6725.58\n",
      "[343]\tvalidation_0-rmse:3541.45\tvalidation_1-rmse:6730.89\n",
      "[344]\tvalidation_0-rmse:3534.22\tvalidation_1-rmse:6726.43\n",
      "[345]\tvalidation_0-rmse:3518.69\tvalidation_1-rmse:6729.35\n",
      "[346]\tvalidation_0-rmse:3517.14\tvalidation_1-rmse:6727.39\n",
      "[347]\tvalidation_0-rmse:3516\tvalidation_1-rmse:6725.05\n",
      "[348]\tvalidation_0-rmse:3514.03\tvalidation_1-rmse:6723.67\n",
      "[349]\tvalidation_0-rmse:3507.88\tvalidation_1-rmse:6723.77\n",
      "[350]\tvalidation_0-rmse:3507.14\tvalidation_1-rmse:6724.41\n",
      "[351]\tvalidation_0-rmse:3503.68\tvalidation_1-rmse:6730.17\n",
      "[352]\tvalidation_0-rmse:3502.26\tvalidation_1-rmse:6732.28\n",
      "[353]\tvalidation_0-rmse:3493.39\tvalidation_1-rmse:6730.17\n",
      "[354]\tvalidation_0-rmse:3492.17\tvalidation_1-rmse:6732.1\n",
      "[355]\tvalidation_0-rmse:3491.31\tvalidation_1-rmse:6730.91\n",
      "[356]\tvalidation_0-rmse:3490.77\tvalidation_1-rmse:6731.26\n",
      "[357]\tvalidation_0-rmse:3485.86\tvalidation_1-rmse:6732.98\n",
      "[358]\tvalidation_0-rmse:3482.46\tvalidation_1-rmse:6732.07\n",
      "[359]\tvalidation_0-rmse:3481.73\tvalidation_1-rmse:6731.4\n",
      "[360]\tvalidation_0-rmse:3454.05\tvalidation_1-rmse:6735.92\n",
      "[361]\tvalidation_0-rmse:3452.79\tvalidation_1-rmse:6737.83\n",
      "[362]\tvalidation_0-rmse:3447.87\tvalidation_1-rmse:6743.64\n",
      "[363]\tvalidation_0-rmse:3445.67\tvalidation_1-rmse:6743.75\n",
      "[364]\tvalidation_0-rmse:3430.23\tvalidation_1-rmse:6741.38\n",
      "[365]\tvalidation_0-rmse:3427.94\tvalidation_1-rmse:6741.11\n",
      "[366]\tvalidation_0-rmse:3421.9\tvalidation_1-rmse:6732.05\n",
      "[367]\tvalidation_0-rmse:3421.2\tvalidation_1-rmse:6732.62\n",
      "[368]\tvalidation_0-rmse:3416.85\tvalidation_1-rmse:6728.96\n",
      "[369]\tvalidation_0-rmse:3415.79\tvalidation_1-rmse:6729.4\n",
      "[370]\tvalidation_0-rmse:3399.49\tvalidation_1-rmse:6725.06\n",
      "[371]\tvalidation_0-rmse:3393.59\tvalidation_1-rmse:6733.79\n",
      "[372]\tvalidation_0-rmse:3389.12\tvalidation_1-rmse:6732.25\n",
      "[373]\tvalidation_0-rmse:3385.32\tvalidation_1-rmse:6731.5\n",
      "[374]\tvalidation_0-rmse:3384.4\tvalidation_1-rmse:6729.83\n",
      "[375]\tvalidation_0-rmse:3373.19\tvalidation_1-rmse:6718.99\n",
      "[376]\tvalidation_0-rmse:3371.58\tvalidation_1-rmse:6719.1\n",
      "[377]\tvalidation_0-rmse:3366.51\tvalidation_1-rmse:6724.44\n",
      "[378]\tvalidation_0-rmse:3356.28\tvalidation_1-rmse:6720.63\n",
      "[379]\tvalidation_0-rmse:3337.47\tvalidation_1-rmse:6719.2\n",
      "[380]\tvalidation_0-rmse:3336.47\tvalidation_1-rmse:6719.82\n",
      "[381]\tvalidation_0-rmse:3335.75\tvalidation_1-rmse:6719.24\n",
      "[382]\tvalidation_0-rmse:3330.21\tvalidation_1-rmse:6717.13\n",
      "[383]\tvalidation_0-rmse:3329.51\tvalidation_1-rmse:6715.49\n",
      "[384]\tvalidation_0-rmse:3328.9\tvalidation_1-rmse:6715.97\n",
      "[385]\tvalidation_0-rmse:3324.67\tvalidation_1-rmse:6719.13\n",
      "[386]\tvalidation_0-rmse:3297.13\tvalidation_1-rmse:6715.95\n",
      "[387]\tvalidation_0-rmse:3290.84\tvalidation_1-rmse:6714.88\n",
      "[388]\tvalidation_0-rmse:3289.16\tvalidation_1-rmse:6715.27\n",
      "[389]\tvalidation_0-rmse:3288.57\tvalidation_1-rmse:6715.19\n",
      "[390]\tvalidation_0-rmse:3286.74\tvalidation_1-rmse:6719.79\n",
      "[391]\tvalidation_0-rmse:3286.25\tvalidation_1-rmse:6719\n",
      "[392]\tvalidation_0-rmse:3285.45\tvalidation_1-rmse:6718.51\n",
      "[393]\tvalidation_0-rmse:3283.89\tvalidation_1-rmse:6718.57\n",
      "[394]\tvalidation_0-rmse:3280.9\tvalidation_1-rmse:6724.45\n",
      "[395]\tvalidation_0-rmse:3280\tvalidation_1-rmse:6722.85\n",
      "[396]\tvalidation_0-rmse:3269.6\tvalidation_1-rmse:6719.27\n",
      "[397]\tvalidation_0-rmse:3263.25\tvalidation_1-rmse:6719.83\n",
      "[398]\tvalidation_0-rmse:3262.71\tvalidation_1-rmse:6718.75\n",
      "[399]\tvalidation_0-rmse:3262.23\tvalidation_1-rmse:6719.04\n",
      "[400]\tvalidation_0-rmse:3257.65\tvalidation_1-rmse:6714.27\n",
      "[401]\tvalidation_0-rmse:3226.98\tvalidation_1-rmse:6714.98\n",
      "[402]\tvalidation_0-rmse:3223.62\tvalidation_1-rmse:6714.81\n",
      "[403]\tvalidation_0-rmse:3223.08\tvalidation_1-rmse:6713.01\n",
      "[404]\tvalidation_0-rmse:3217.62\tvalidation_1-rmse:6711.67\n",
      "[405]\tvalidation_0-rmse:3216.88\tvalidation_1-rmse:6712.22\n",
      "[406]\tvalidation_0-rmse:3202.61\tvalidation_1-rmse:6713.05\n",
      "[407]\tvalidation_0-rmse:3199.2\tvalidation_1-rmse:6714.7\n",
      "[408]\tvalidation_0-rmse:3189.45\tvalidation_1-rmse:6713.2\n",
      "[409]\tvalidation_0-rmse:3188.87\tvalidation_1-rmse:6713.42\n",
      "[410]\tvalidation_0-rmse:3186.37\tvalidation_1-rmse:6710.96\n",
      "[411]\tvalidation_0-rmse:3172.95\tvalidation_1-rmse:6715.72\n",
      "[412]\tvalidation_0-rmse:3169.63\tvalidation_1-rmse:6713.23\n",
      "[413]\tvalidation_0-rmse:3169.21\tvalidation_1-rmse:6712.21\n",
      "[414]\tvalidation_0-rmse:3150.32\tvalidation_1-rmse:6719.16\n",
      "[415]\tvalidation_0-rmse:3146.12\tvalidation_1-rmse:6717.83\n",
      "[416]\tvalidation_0-rmse:3143.81\tvalidation_1-rmse:6716.21\n",
      "[417]\tvalidation_0-rmse:3141.02\tvalidation_1-rmse:6712.68\n",
      "[418]\tvalidation_0-rmse:3130.26\tvalidation_1-rmse:6715.32\n",
      "[419]\tvalidation_0-rmse:3129.19\tvalidation_1-rmse:6714.5\n",
      "[420]\tvalidation_0-rmse:3127.6\tvalidation_1-rmse:6714.71\n",
      "[421]\tvalidation_0-rmse:3124.95\tvalidation_1-rmse:6714.95\n",
      "[422]\tvalidation_0-rmse:3122.79\tvalidation_1-rmse:6715.6\n",
      "[423]\tvalidation_0-rmse:3122.29\tvalidation_1-rmse:6715.5\n",
      "[424]\tvalidation_0-rmse:3097.5\tvalidation_1-rmse:6715.44\n",
      "[425]\tvalidation_0-rmse:3093.99\tvalidation_1-rmse:6714.75\n",
      "[426]\tvalidation_0-rmse:3093.32\tvalidation_1-rmse:6714.72\n",
      "[427]\tvalidation_0-rmse:3089.22\tvalidation_1-rmse:6712.17\n",
      "[428]\tvalidation_0-rmse:3088.81\tvalidation_1-rmse:6712.55\n"
     ]
    },
    {
     "name": "stdout",
     "output_type": "stream",
     "text": [
      "[429]\tvalidation_0-rmse:3084.12\tvalidation_1-rmse:6712.44\n",
      "[430]\tvalidation_0-rmse:3074.21\tvalidation_1-rmse:6712.29\n",
      "[431]\tvalidation_0-rmse:3070.55\tvalidation_1-rmse:6711.61\n",
      "[432]\tvalidation_0-rmse:3063.79\tvalidation_1-rmse:6713.58\n",
      "[433]\tvalidation_0-rmse:3055.12\tvalidation_1-rmse:6716.62\n",
      "[434]\tvalidation_0-rmse:3054.57\tvalidation_1-rmse:6715.94\n",
      "[435]\tvalidation_0-rmse:3053.02\tvalidation_1-rmse:6718.53\n",
      "[436]\tvalidation_0-rmse:3034.14\tvalidation_1-rmse:6718.73\n",
      "[437]\tvalidation_0-rmse:3033.81\tvalidation_1-rmse:6718.54\n",
      "[438]\tvalidation_0-rmse:3033.42\tvalidation_1-rmse:6718.57\n",
      "[439]\tvalidation_0-rmse:3032.56\tvalidation_1-rmse:6718.74\n",
      "[440]\tvalidation_0-rmse:3031.89\tvalidation_1-rmse:6718.84\n",
      "[441]\tvalidation_0-rmse:3021.34\tvalidation_1-rmse:6722.74\n",
      "[442]\tvalidation_0-rmse:3015.48\tvalidation_1-rmse:6715.11\n",
      "[443]\tvalidation_0-rmse:3015.08\tvalidation_1-rmse:6714.69\n",
      "[444]\tvalidation_0-rmse:3014.15\tvalidation_1-rmse:6714.66\n",
      "[445]\tvalidation_0-rmse:3013.11\tvalidation_1-rmse:6714.81\n",
      "[446]\tvalidation_0-rmse:2981.54\tvalidation_1-rmse:6710.8\n",
      "[447]\tvalidation_0-rmse:2975.34\tvalidation_1-rmse:6711.32\n",
      "[448]\tvalidation_0-rmse:2974.59\tvalidation_1-rmse:6711.6\n",
      "[449]\tvalidation_0-rmse:2957.45\tvalidation_1-rmse:6707.13\n",
      "[450]\tvalidation_0-rmse:2956.3\tvalidation_1-rmse:6707.76\n",
      "[451]\tvalidation_0-rmse:2952.82\tvalidation_1-rmse:6712.43\n",
      "[452]\tvalidation_0-rmse:2952.4\tvalidation_1-rmse:6712.71\n",
      "[453]\tvalidation_0-rmse:2947.45\tvalidation_1-rmse:6711.91\n",
      "[454]\tvalidation_0-rmse:2944.45\tvalidation_1-rmse:6712.12\n",
      "[455]\tvalidation_0-rmse:2940.3\tvalidation_1-rmse:6712.1\n",
      "[456]\tvalidation_0-rmse:2938.88\tvalidation_1-rmse:6711.31\n",
      "[457]\tvalidation_0-rmse:2930.8\tvalidation_1-rmse:6711.31\n",
      "[458]\tvalidation_0-rmse:2928.73\tvalidation_1-rmse:6709.9\n",
      "[459]\tvalidation_0-rmse:2922.4\tvalidation_1-rmse:6709.31\n",
      "[460]\tvalidation_0-rmse:2920.55\tvalidation_1-rmse:6708.2\n",
      "[461]\tvalidation_0-rmse:2918.28\tvalidation_1-rmse:6707.09\n",
      "[462]\tvalidation_0-rmse:2913.8\tvalidation_1-rmse:6711.63\n",
      "[463]\tvalidation_0-rmse:2912.73\tvalidation_1-rmse:6711.52\n",
      "[464]\tvalidation_0-rmse:2911.03\tvalidation_1-rmse:6712.09\n",
      "[465]\tvalidation_0-rmse:2910.6\tvalidation_1-rmse:6711.73\n",
      "[466]\tvalidation_0-rmse:2908.57\tvalidation_1-rmse:6707.8\n",
      "[467]\tvalidation_0-rmse:2904.85\tvalidation_1-rmse:6710.47\n",
      "[468]\tvalidation_0-rmse:2904.45\tvalidation_1-rmse:6709.94\n",
      "[469]\tvalidation_0-rmse:2903.97\tvalidation_1-rmse:6708.65\n"
     ]
    },
    {
     "data": {
      "text/plain": [
       "XGBRegressor(base_score=0.5, booster='gbtree', colsample_bylevel=1,\n",
       "             colsample_bynode=1, colsample_bytree=0.4, gamma=0,\n",
       "             importance_type='gain', learning_rate=0.1, max_delta_step=0,\n",
       "             max_depth=5, min_child_weight=1, missing=None, n_estimators=470,\n",
       "             n_jobs=1, nthread=None, objective='reg:squarederror',\n",
       "             random_state=0, reg_alpha=1e-05, reg_lambda=0.01,\n",
       "             scale_pos_weight=1, seed=None, silent=None, subsample=0.95,\n",
       "             verbosity=1)"
      ]
     },
     "execution_count": 34,
     "metadata": {},
     "output_type": "execute_result"
    }
   ],
   "source": [
    "#eval metric\n",
    "eval_set = [(X_train, y_train), (X_test, y_test)]\n",
    "xgb3.fit(X_train, y_train, eval_metric='rmse', eval_set=eval_set)"
   ]
  },
  {
   "cell_type": "code",
   "execution_count": 36,
   "metadata": {
    "scrolled": true
   },
   "outputs": [
    {
     "data": {
      "image/png": "[encoded data removed]",
      "text/plain": [
       "<Figure size 432x288 with 1 Axes>"
      ]
     },
     "metadata": {},
     "output_type": "display_data"
    }
   ],
   "source": [
    "# compare RMSE for training and test set\n",
    "results = xgb3.evals_result()\n",
    "epochs = len(results['validation_0']['rmse'])\n",
    "x_axis = range(0, epochs)\n",
    "fig, ax = plt.subplots()\n",
    "ax.plot(x_axis, results['validation_0']['rmse'], label='Train', color='blue')\n",
    "ax.plot(x_axis, results['validation_1']['rmse'], label='Test', color='red')\n",
    "ax.legend()\n",
    "plt.ylabel('Root Mean Square Error')\n",
    "plt.title('XGBoost RMSE')\n",
    "plt.show()"
   ]
  }
 ],
 "metadata": {
  "kernelspec": {
   "display_name": "Python 3",
   "language": "python",
   "name": "python3"
  },
  "language_info": {
   "codemirror_mode": {
    "name": "ipython",
    "version": 3
   },
   "file_extension": ".py",
   "mimetype": "text/x-python",
   "name": "python",
   "nbconvert_exporter": "python",
   "pygments_lexer": "ipython3",
   "version": "3.7.6"
  }
 },
 "nbformat": 4,
 "nbformat_minor": 4
}
